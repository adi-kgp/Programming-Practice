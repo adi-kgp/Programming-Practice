{
 "cells": [
  {
   "cell_type": "code",
   "execution_count": null,
   "metadata": {},
   "outputs": [],
   "source": [
    "'''use stack data structures to convert integer values to binary\n",
    "    example: 242:\n",
    "    242 % 2 = 121, remainder = 0\n",
    "    121 %2 = 60, remainder = 1\n",
    "    60 % 2 = 30, remainder = 0\n",
    "    30 % 2 = 15, remainder = 0\n",
    "    15 % 2 = 7, remainder = 1\n",
    "    7 % 2 = 3, remainder = 1\n",
    "    3 % 2 = 1, remainder = 1\n",
    "    1 % 2 = 0, remainder = 1\n",
    "''' "
   ]
  },
  {
   "cell_type": "code",
   "execution_count": 3,
   "metadata": {},
   "outputs": [],
   "source": [
    "class Stack:\n",
    "    def __init__ (self):\n",
    "        self.items = []\n",
    "    \n",
    "    def push(self,val):\n",
    "        self.items.append(val)\n",
    "        \n",
    "    def pop(self):\n",
    "        return self.items.pop()\n",
    "        \n",
    "    def isEmpty(self):\n",
    "        return self.items == []\n",
    "    \n",
    "    def peek(self):\n",
    "        if not self.isEmpty(): \n",
    "            return self.items[-1]\n",
    "    \n",
    "    def printStack(self):\n",
    "        print(self.items)"
   ]
  },
  {
   "cell_type": "code",
   "execution_count": 4,
   "metadata": {},
   "outputs": [],
   "source": [
    "s = Stack()\n",
    "def binaryInteger(stack, num):\n",
    "    while num > 0:\n",
    "        stack.push(num % 2)\n",
    "        num = num // 2\n",
    "    binary = ''\n",
    "    while (not stack.isEmpty()):\n",
    "        binary += str(stack.pop())\n",
    "    print(binary)"
   ]
  },
  {
   "cell_type": "code",
   "execution_count": 6,
   "metadata": {},
   "outputs": [
    {
     "name": "stdout",
     "output_type": "stream",
     "text": [
      "11110010\n"
     ]
    }
   ],
   "source": [
    "binaryInteger(s, 242)"
   ]
  },
  {
   "cell_type": "code",
   "execution_count": null,
   "metadata": {},
   "outputs": [],
   "source": []
  }
 ],
 "metadata": {
  "kernelspec": {
   "display_name": "Python 3",
   "language": "python",
   "name": "python3"
  },
  "language_info": {
   "codemirror_mode": {
    "name": "ipython",
    "version": 3
   },
   "file_extension": ".py",
   "mimetype": "text/x-python",
   "name": "python",
   "nbconvert_exporter": "python",
   "pygments_lexer": "ipython3",
   "version": "3.6.9"
  }
 },
 "nbformat": 4,
 "nbformat_minor": 2
}
