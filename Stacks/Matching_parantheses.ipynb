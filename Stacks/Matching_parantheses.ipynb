{
 "cells": [
  {
   "cell_type": "code",
   "execution_count": 2,
   "metadata": {},
   "outputs": [
    {
     "data": {
      "text/plain": [
       "' Use Stack to check if a string has balanced usage of paranthesis\\n Example of balanced : ([{}])\\n Example of unbalanced: [(}(] '"
      ]
     },
     "execution_count": 2,
     "metadata": {},
     "output_type": "execute_result"
    }
   ],
   "source": [
    "''' Use Stack to check if a string has balanced usage of paranthesis\n",
    " Example of balanced : ([{}])\n",
    " Example of unbalanced: [(}(] '''"
   ]
  },
  {
   "cell_type": "code",
   "execution_count": 12,
   "metadata": {},
   "outputs": [],
   "source": [
    "class Stack:\n",
    "    def __init__(self):\n",
    "        self.items = []\n",
    "    \n",
    "    def pop(self):\n",
    "        return self.items.pop()\n",
    "    \n",
    "    def isEmpty(self):\n",
    "        return self.items == []\n",
    "    \n",
    "    def push(self, item):\n",
    "        self.items.append(item)\n",
    "\n",
    "    def printStack(self):\n",
    "        print(self.items)\n",
    "        \n",
    "def is_balanced(string):\n",
    "    index = 0\n",
    "    is_balanced = True\n",
    "    s = Stack()\n",
    "    while (is_balanced and index < len(string)):\n",
    "        paren = string[index]\n",
    "        if paren in '({[':\n",
    "            s.push(paren)\n",
    "        elif not s.isEmpty():\n",
    "            if not match_paren(s.pop(),paren):\n",
    "                is_balanced = False\n",
    "        else:\n",
    "            is_balanced = True\n",
    "        index += 1\n",
    "    if s.isEmpty() and is_balanced:\n",
    "        print('String is balanced')\n",
    "    else:\n",
    "        print('String is unbalanced')\n",
    "        \n",
    "def match_paren(chr1, chr2):\n",
    "    if chr1 == '(':\n",
    "        if chr2 == ')':\n",
    "            return True\n",
    "        else:\n",
    "            return False\n",
    "    elif chr1 == '{':\n",
    "        if chr2 == '}':\n",
    "            return True\n",
    "        else:\n",
    "            return False\n",
    "    else:\n",
    "        if chr2 == ']':\n",
    "            return True\n",
    "        else:\n",
    "            return False\n",
    "    "
   ]
  },
  {
   "cell_type": "code",
   "execution_count": 18,
   "metadata": {},
   "outputs": [
    {
     "name": "stdout",
     "output_type": "stream",
     "text": [
      "String is balanced\n",
      "String is unbalanced\n"
     ]
    }
   ],
   "source": [
    "is_balanced('({}[])')\n",
    "is_balanced('(}')"
   ]
  },
  {
   "cell_type": "code",
   "execution_count": null,
   "metadata": {},
   "outputs": [],
   "source": []
  }
 ],
 "metadata": {
  "kernelspec": {
   "display_name": "Python 3",
   "language": "python",
   "name": "python3"
  },
  "language_info": {
   "codemirror_mode": {
    "name": "ipython",
    "version": 3
   },
   "file_extension": ".py",
   "mimetype": "text/x-python",
   "name": "python",
   "nbconvert_exporter": "python",
   "pygments_lexer": "ipython3",
   "version": "3.6.9"
  }
 },
 "nbformat": 4,
 "nbformat_minor": 2
}
