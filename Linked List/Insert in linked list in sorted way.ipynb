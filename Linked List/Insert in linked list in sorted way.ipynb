{
 "cells": [
  {
   "cell_type": "code",
   "execution_count": null,
   "metadata": {},
   "outputs": [],
   "source": [
    "# Program to add nodes in linked list in a sorted way"
   ]
  },
  {
   "cell_type": "code",
   "execution_count": 1,
   "metadata": {},
   "outputs": [],
   "source": [
    "class Node:\n",
    "    def __init__(self,data):\n",
    "        self.data= data\n",
    "        self.next = None\n",
    "    \n",
    "class LinkedList:\n",
    "    def __init__(self):\n",
    "        self.head = None\n",
    "        \n",
    "    def push(self,node):\n",
    "        node.next = self.head\n",
    "        self.head = node\n",
    "\n",
    "    def pushSorted(self,node):\n",
    "        # if linked list is empty\n",
    "        if self.head is None:\n",
    "            self.head = node\n",
    "        \n",
    "        # if there is only one node\n",
    "        elif self.head.data >= node.data:\n",
    "            node.next = self.head\n",
    "            self.head = node\n",
    "        \n",
    "        # if there are more than one node (sorted)\n",
    "        else:\n",
    "            current = self.head\n",
    "            while (current.next is not None and current.next.data < node.data):\n",
    "                current = current.next\n",
    "            node.next = current.next\n",
    "            current.next = node\n",
    "        \n",
    "    def printList(self):\n",
    "        temp = self.head\n",
    "        while(temp):\n",
    "            print(temp.data)\n",
    "            temp = temp.next\n",
    "    "
   ]
  },
  {
   "cell_type": "code",
   "execution_count": 2,
   "metadata": {},
   "outputs": [
    {
     "name": "stdout",
     "output_type": "stream",
     "text": [
      "50\n",
      "60\n",
      "80\n",
      "100\n",
      "250\n",
      "350\n",
      "450\n",
      "550\n"
     ]
    }
   ],
   "source": [
    "llist = LinkedList()\n",
    "node1 = Node(50)\n",
    "llist.pushSorted(node1)\n",
    "node2 = Node(60)\n",
    "llist.pushSorted(node2)\n",
    "node3 = Node(80)\n",
    "llist.pushSorted(node3)\n",
    "node4 = Node(100)\n",
    "llist.pushSorted(node4)\n",
    "node5 = Node(250)\n",
    "llist.pushSorted(node5)\n",
    "node6 = Node(350)\n",
    "llist.pushSorted(node6)\n",
    "node7 = Node(450)\n",
    "llist.pushSorted(node7)\n",
    "node8 = Node(550)\n",
    "llist.pushSorted(node8)\n",
    "llist.printList()"
   ]
  },
  {
   "cell_type": "code",
   "execution_count": null,
   "metadata": {},
   "outputs": [],
   "source": [
    "\n"
   ]
  },
  {
   "cell_type": "code",
   "execution_count": null,
   "metadata": {},
   "outputs": [],
   "source": []
  }
 ],
 "metadata": {
  "kernelspec": {
   "display_name": "Python 3",
   "language": "python",
   "name": "python3"
  },
  "language_info": {
   "codemirror_mode": {
    "name": "ipython",
    "version": 3
   },
   "file_extension": ".py",
   "mimetype": "text/x-python",
   "name": "python",
   "nbconvert_exporter": "python",
   "pygments_lexer": "ipython3",
   "version": "3.6.9"
  }
 },
 "nbformat": 4,
 "nbformat_minor": 2
}
