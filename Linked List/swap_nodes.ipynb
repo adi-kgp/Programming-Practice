{
 "cells": [
  {
   "cell_type": "code",
   "execution_count": 1,
   "metadata": {},
   "outputs": [
    {
     "data": {
      "text/plain": [
       "'Swap two nodes in a linked list\\na. both nodes are not head nodes\\nb. either nodes are head nodes'"
      ]
     },
     "execution_count": 1,
     "metadata": {},
     "output_type": "execute_result"
    }
   ],
   "source": [
    "'''Swap two nodes in a linked list\n",
    "a. both nodes are not head nodes\n",
    "b. either nodes are head nodes'''\n"
   ]
  },
  {
   "cell_type": "code",
   "execution_count": 34,
   "metadata": {},
   "outputs": [],
   "source": [
    "class Node:\n",
    "    def __init__(self,data):\n",
    "        self.data = data\n",
    "        self.next = None\n",
    "        \n",
    "class LinkedList:\n",
    "    def __init__(self):\n",
    "        self.head = None\n",
    "    \n",
    "    def append(self,data):\n",
    "        new_node = Node(data)\n",
    "        if self.head == None:\n",
    "            self.head = new_node\n",
    "        else:\n",
    "            current = self.head\n",
    "            while current.next:\n",
    "                current = current.next\n",
    "            current.next = new_node\n",
    "        \n",
    "    def swap_nodes(self, data1, data2):\n",
    "        curr = self.head\n",
    "        if curr.data == data1:\n",
    "            node1 = curr\n",
    "        while curr.next:\n",
    "            prev = curr\n",
    "            curr = curr.next\n",
    "            if curr.data ==data1:\n",
    "                node1 = prev\n",
    "            elif curr.data == data2:\n",
    "                node2 = prev\n",
    "        if node1.next.data != data1:\n",
    "            node1.data, node2.next.data = node2.next.data, node1.data\n",
    "        else:\n",
    "            node1.next.data, node2.next.data = node2.next.data, node1.next.data\n",
    "        \n",
    "    def printList(self):\n",
    "        temp = self.head\n",
    "        while temp:\n",
    "            print(temp.data, end=',')\n",
    "            temp = temp.next\n",
    "        print(temp)"
   ]
  },
  {
   "cell_type": "code",
   "execution_count": 35,
   "metadata": {},
   "outputs": [
    {
     "name": "stdout",
     "output_type": "stream",
     "text": [
      "a,b,c,d,e,None\n"
     ]
    }
   ],
   "source": [
    "llist = LinkedList()\n",
    "llist.append('a')\n",
    "llist.append('b')\n",
    "llist.append('c')\n",
    "llist.append('d')\n",
    "llist.append('e')\n",
    "llist.printList()"
   ]
  },
  {
   "cell_type": "code",
   "execution_count": 36,
   "metadata": {},
   "outputs": [
    {
     "name": "stdout",
     "output_type": "stream",
     "text": [
      "d,b,c,a,e,None\n"
     ]
    }
   ],
   "source": [
    "llist.swap_nodes('a','d')\n",
    "llist.printList()"
   ]
  },
  {
   "cell_type": "code",
   "execution_count": 37,
   "metadata": {},
   "outputs": [
    {
     "name": "stdout",
     "output_type": "stream",
     "text": [
      "e,b,c,a,d,None\n"
     ]
    }
   ],
   "source": [
    "llist.swap_nodes('d','e')\n",
    "llist.printList()"
   ]
  },
  {
   "cell_type": "code",
   "execution_count": null,
   "metadata": {},
   "outputs": [],
   "source": []
  }
 ],
 "metadata": {
  "kernelspec": {
   "display_name": "Python 3",
   "language": "python",
   "name": "python3"
  },
  "language_info": {
   "codemirror_mode": {
    "name": "ipython",
    "version": 3
   },
   "file_extension": ".py",
   "mimetype": "text/x-python",
   "name": "python",
   "nbconvert_exporter": "python",
   "pygments_lexer": "ipython3",
   "version": "3.6.9"
  }
 },
 "nbformat": 4,
 "nbformat_minor": 2
}
