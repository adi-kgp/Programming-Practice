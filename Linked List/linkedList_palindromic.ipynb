{
 "cells": [
  {
   "cell_type": "code",
   "execution_count": 1,
   "metadata": {},
   "outputs": [],
   "source": [
    "# check to see if a linked list is palindromic"
   ]
  },
  {
   "cell_type": "code",
   "execution_count": 14,
   "metadata": {},
   "outputs": [],
   "source": [
    "class Node:\n",
    "    def __init__(self,data):\n",
    "        self.data = data\n",
    "        self.next = None\n",
    "        \n",
    "class LinkedList:\n",
    "    def __init__(self):\n",
    "        self.head = None\n",
    "        \n",
    "    def append(self, data):\n",
    "        node = Node(data)\n",
    "        if self.head == None:\n",
    "            self.head = node\n",
    "        else:\n",
    "            temp = self.head\n",
    "            while temp.next:\n",
    "                temp = temp.next\n",
    "            temp.next = node\n",
    "    \n",
    "    def is_palindromic(self):\n",
    "#         # method1\n",
    "#         s= ''\n",
    "#         temp = self.head\n",
    "#         while temp:\n",
    "#             s += temp.data\n",
    "#             temp = temp.next\n",
    "#         return s == s[::-1]\n",
    "        #method2\n",
    "        s=[]\n",
    "        temp = self.head\n",
    "        while temp:\n",
    "            s.append(temp.data)\n",
    "            temp = temp.next\n",
    "        temp = self.head\n",
    "        while temp:\n",
    "            if s.pop() != temp.data:\n",
    "                return False\n",
    "            temp = temp.next\n",
    "        return True"
   ]
  },
  {
   "cell_type": "code",
   "execution_count": 15,
   "metadata": {},
   "outputs": [
    {
     "data": {
      "text/plain": [
       "True"
      ]
     },
     "execution_count": 15,
     "metadata": {},
     "output_type": "execute_result"
    }
   ],
   "source": [
    "llist = LinkedList()\n",
    "llist.append('R')\n",
    "llist.append('A')\n",
    "llist.append('D')\n",
    "llist.append('A')\n",
    "llist.append('R')\n",
    "llist.is_palindromic()"
   ]
  },
  {
   "cell_type": "code",
   "execution_count": 16,
   "metadata": {},
   "outputs": [
    {
     "data": {
      "text/plain": [
       "False"
      ]
     },
     "execution_count": 16,
     "metadata": {},
     "output_type": "execute_result"
    }
   ],
   "source": [
    "llist.append('R')\n",
    "llist.append('A')\n",
    "llist.append('I')\n",
    "llist.append('D')\n",
    "llist.is_palindromic()"
   ]
  },
  {
   "cell_type": "code",
   "execution_count": null,
   "metadata": {},
   "outputs": [],
   "source": []
  }
 ],
 "metadata": {
  "kernelspec": {
   "display_name": "Python 3",
   "language": "python",
   "name": "python3"
  },
  "language_info": {
   "codemirror_mode": {
    "name": "ipython",
    "version": 3
   },
   "file_extension": ".py",
   "mimetype": "text/x-python",
   "name": "python",
   "nbconvert_exporter": "python",
   "pygments_lexer": "ipython3",
   "version": "3.6.9"
  }
 },
 "nbformat": 4,
 "nbformat_minor": 4
}
