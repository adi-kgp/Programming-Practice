{
 "cells": [
  {
   "cell_type": "code",
   "execution_count": 1,
   "metadata": {},
   "outputs": [],
   "source": [
    "# Given a Singly Linked List, write a function to delete a given node. Your function must follow following constraints:\n",
    "# 1) It must accept a pointer to the start node as first parameter and node to be deleted as the second parameter i.e., a pointer to head node is not global.\n",
    "# 2) It should not return a pointer to the head node.\n",
    "# 3) It should not accept pointer to pointer to head node.\n",
    "\n",
    "# You may assume that the Linked List never becomes empty."
   ]
  },
  {
   "cell_type": "code",
   "execution_count": 1,
   "metadata": {},
   "outputs": [],
   "source": [
    "class Node:\n",
    "    def __init__(self,data):\n",
    "        self.next = None\n",
    "        self.data = data\n",
    "\n",
    "class LinkedList:\n",
    "    def __init__(self):\n",
    "        self.head = None\n",
    "        \n",
    "    def push(self,node):\n",
    "        node.next = self.head\n",
    "        self.head = node\n",
    "        \n",
    "    def printList(self):\n",
    "        temp=self.head\n",
    "        while(temp):\n",
    "            print(temp.data, end=' ')\n",
    "            temp = temp.next\n",
    "            \n",
    "    def deleteNode(self,data):\n",
    "        current = self.head\n",
    "        # if the element to be deleted is present at the top\n",
    "        if current.data == data:\n",
    "            if current.next is not None:\n",
    "                current.data = current.next.data\n",
    "                current.next = current.next.next\n",
    "            else:\n",
    "                print(\"There is only one element in the list which cannot be empty so cannot be deleted\")\n",
    "            return\n",
    "        # if present at any other position in the list\n",
    "        while(current.next is not None and current.next.data != data):\n",
    "            current = current.next\n",
    "        \n",
    "        if current.next is None:\n",
    "            print(\"The element not present in list\")\n",
    "        else:\n",
    "            current.next = current.next.next"
   ]
  },
  {
   "cell_type": "code",
   "execution_count": 2,
   "metadata": {},
   "outputs": [
    {
     "name": "stdout",
     "output_type": "stream",
     "text": [
      "30 20 10 30 10 The element not present in list\n",
      "30 10 "
     ]
    }
   ],
   "source": [
    "llist = LinkedList()\n",
    "node1 = Node(10)\n",
    "llist.push(node1)\n",
    "node2 = Node(20)\n",
    "llist.push(node2)\n",
    "node3 = Node(30)\n",
    "llist.push(node3)\n",
    "llist.printList()\n",
    "llist.deleteNode(20)\n",
    "llist.printList()\n",
    "llist.deleteNode(40)\n",
    "llist.printList()"
   ]
  },
  {
   "cell_type": "code",
   "execution_count": null,
   "metadata": {},
   "outputs": [],
   "source": []
  },
  {
   "cell_type": "code",
   "execution_count": null,
   "metadata": {},
   "outputs": [],
   "source": []
  }
 ],
 "metadata": {
  "kernelspec": {
   "display_name": "Python 3",
   "language": "python",
   "name": "python3"
  },
  "language_info": {
   "codemirror_mode": {
    "name": "ipython",
    "version": 3
   },
   "file_extension": ".py",
   "mimetype": "text/x-python",
   "name": "python",
   "nbconvert_exporter": "python",
   "pygments_lexer": "ipython3",
   "version": "3.6.9"
  }
 },
 "nbformat": 4,
 "nbformat_minor": 2
}
