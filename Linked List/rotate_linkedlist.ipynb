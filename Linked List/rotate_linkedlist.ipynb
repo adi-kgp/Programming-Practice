{
 "cells": [
  {
   "cell_type": "code",
   "execution_count": 1,
   "metadata": {},
   "outputs": [],
   "source": [
    "# rotate a linked list at given position"
   ]
  },
  {
   "cell_type": "code",
   "execution_count": 9,
   "metadata": {},
   "outputs": [],
   "source": [
    "class Node:\n",
    "    def __init__(self,data):\n",
    "        self.data = data\n",
    "        self.next = None\n",
    "        \n",
    "class LinkedList:\n",
    "    def __init__(self):\n",
    "        self.head = None\n",
    "    \n",
    "    def append(self,data):\n",
    "        node = Node(data)\n",
    "        if self.head == None:\n",
    "            self.head = node\n",
    "        else:\n",
    "            temp = self.head\n",
    "            while temp.next:\n",
    "                temp = temp.next\n",
    "            temp.next = node\n",
    "        \n",
    "    def printList(self):\n",
    "        temp = self.head\n",
    "        while temp:\n",
    "            print(temp.data, end=' ')\n",
    "            temp = temp.next\n",
    "        print(temp)\n",
    "        \n",
    "    def rotate(self,k):\n",
    "        p = self.head\n",
    "        q = self.head\n",
    "        count = 0\n",
    "        prev = None\n",
    "        while p and count < k:\n",
    "            prev = p\n",
    "            p = p.next\n",
    "            q = q.next\n",
    "            count += 1\n",
    "        p = prev\n",
    "        while q.next:\n",
    "            q = q.next\n",
    "        q.next = self.head\n",
    "        self.head = p.next\n",
    "        p.next = None"
   ]
  },
  {
   "cell_type": "code",
   "execution_count": 10,
   "metadata": {},
   "outputs": [
    {
     "name": "stdout",
     "output_type": "stream",
     "text": [
      "1 2 3 4 5 None\n",
      "4 5 1 2 3 None\n"
     ]
    }
   ],
   "source": [
    "llist = LinkedList()\n",
    "llist.append(1)\n",
    "llist.append(2)\n",
    "llist.append(3)\n",
    "llist.append(4)\n",
    "llist.append(5)\n",
    "llist.printList()\n",
    "llist.rotate(3)\n",
    "llist.printList()"
   ]
  },
  {
   "cell_type": "code",
   "execution_count": 12,
   "metadata": {},
   "outputs": [
    {
     "name": "stdout",
     "output_type": "stream",
     "text": [
      "3 4 5 1 2 None\n"
     ]
    }
   ],
   "source": [
    "llist.rotate(4)\n",
    "llist.printList()"
   ]
  },
  {
   "cell_type": "code",
   "execution_count": null,
   "metadata": {},
   "outputs": [],
   "source": []
  }
 ],
 "metadata": {
  "kernelspec": {
   "display_name": "Python 3",
   "language": "python",
   "name": "python3"
  },
  "language_info": {
   "codemirror_mode": {
    "name": "ipython",
    "version": 3
   },
   "file_extension": ".py",
   "mimetype": "text/x-python",
   "name": "python",
   "nbconvert_exporter": "python",
   "pygments_lexer": "ipython3",
   "version": "3.6.9"
  }
 },
 "nbformat": 4,
 "nbformat_minor": 4
}
