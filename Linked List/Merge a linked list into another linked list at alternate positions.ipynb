{
 "cells": [
  {
   "cell_type": "code",
   "execution_count": 1,
   "metadata": {},
   "outputs": [],
   "source": [
    "# Given two linked lists, insert nodes of second list into first list at alternate positions of first list.\n",
    "# For example, if first list is 5->7->17->13->11 and second is 12->10->2->4->6, the first list should become \n",
    "# 5->12->7->10->17->2->13->4->11->6 and second list should become empty. The nodes of second list should only be \n",
    "# inserted when there are positions available. For example, if the first list is 1->2->3 and second list is \n",
    "# 4->5->6->7->8, then first list should become 1->4->2->5->3->6 and second list to 7->8."
   ]
  },
  {
   "cell_type": "code",
   "execution_count": 5,
   "metadata": {},
   "outputs": [],
   "source": [
    "class Node:\n",
    "    def __init__(self,data):\n",
    "        self.next = None\n",
    "        self.data = data\n",
    "        \n",
    "class LinkedList:\n",
    "    \n",
    "    def __init__(self):\n",
    "        self.head = None\n",
    "        \n",
    "    def push(self,data):\n",
    "        new_node = Node(data)\n",
    "        new_node.next = self.head\n",
    "        self.head = new_node\n",
    "        \n",
    "    def printList(self):\n",
    "        temp = self.head\n",
    "        while(temp):\n",
    "            print(temp.data, end= ' ')\n",
    "            temp = temp.next        \n",
    "        \n",
    "    def insertNodeAlternate(self,llist):\n",
    "        p_curr = self.head\n",
    "        q_curr = llist.head\n",
    "        while(p_curr != None and q_curr != None):\n",
    "            # save next pointers into separate variables\n",
    "            p_next = p_curr.next\n",
    "            q_next = q_curr.next\n",
    "            # move next pointers accordingly\n",
    "            p_curr.next = q_curr\n",
    "            q_curr.next = p_next\n",
    "            # move p_curr and q_curr onto next pointers\n",
    "            p_curr = p_next\n",
    "            q_curr = q_next\n",
    "        llist.head = q_curr"
   ]
  },
  {
   "cell_type": "code",
   "execution_count": 6,
   "metadata": {},
   "outputs": [
    {
     "name": "stdout",
     "output_type": "stream",
     "text": [
      "3 7 2 6 1 5 "
     ]
    }
   ],
   "source": [
    "llist = LinkedList()\n",
    "llist.push(1)\n",
    "llist.push(2)\n",
    "llist.push(3)\n",
    "\n",
    "llist2 = LinkedList()\n",
    "llist2.push(4)\n",
    "llist2.push(5)\n",
    "llist2.push(6)\n",
    "llist2.push(7)\n",
    "\n",
    "llist.insertNodeAlternate(llist2)\n",
    "llist.printList()\n"
   ]
  },
  {
   "cell_type": "code",
   "execution_count": 7,
   "metadata": {},
   "outputs": [
    {
     "name": "stdout",
     "output_type": "stream",
     "text": [
      "4 "
     ]
    }
   ],
   "source": [
    "llist2.printList()"
   ]
  },
  {
   "cell_type": "code",
   "execution_count": null,
   "metadata": {},
   "outputs": [],
   "source": []
  }
 ],
 "metadata": {
  "kernelspec": {
   "display_name": "Python 3",
   "language": "python",
   "name": "python3"
  },
  "language_info": {
   "codemirror_mode": {
    "name": "ipython",
    "version": 3
   },
   "file_extension": ".py",
   "mimetype": "text/x-python",
   "name": "python",
   "nbconvert_exporter": "python",
   "pygments_lexer": "ipython3",
   "version": "3.6.9"
  }
 },
 "nbformat": 4,
 "nbformat_minor": 2
}
