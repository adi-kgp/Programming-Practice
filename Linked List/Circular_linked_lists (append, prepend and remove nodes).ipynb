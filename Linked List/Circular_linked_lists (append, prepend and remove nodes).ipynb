{
 "cells": [
  {
   "cell_type": "code",
   "execution_count": 1,
   "metadata": {},
   "outputs": [],
   "source": [
    "# Circular linked list: append, prepend and remove nodes, all nodes are unique"
   ]
  },
  {
   "cell_type": "code",
   "execution_count": 37,
   "metadata": {},
   "outputs": [],
   "source": [
    "class Node:\n",
    "    def __init__(self,data):\n",
    "        self.data = data\n",
    "        self.next = None\n",
    "        \n",
    "class CircularLinkedList:\n",
    "    def __init__(self):\n",
    "        self.head = None\n",
    "        \n",
    "    def append(self, data):\n",
    "        new_node = Node(data)\n",
    "        if self.head == None:\n",
    "            self.head = new_node\n",
    "            new_node.next = self.head\n",
    "        else:\n",
    "            temp =self.head\n",
    "            while temp.next != self.head:\n",
    "                temp = temp.next\n",
    "            temp.next = new_node\n",
    "            new_node.next = self.head\n",
    "            \n",
    "    def printList(self):\n",
    "        temp = self.head\n",
    "        while temp:\n",
    "            print(temp.data, end=' ')\n",
    "            if temp.next == self.head:\n",
    "                break\n",
    "            temp = temp.next\n",
    "            \n",
    "    def prepend(self, data):\n",
    "        new_node = Node(data)\n",
    "        if self.head == None:\n",
    "            self.head = new_node\n",
    "            new_node.next = self.head\n",
    "        else:\n",
    "            temp = self.head\n",
    "            new_node.next = self.head\n",
    "            while temp.next != self.head:\n",
    "                temp = temp.next\n",
    "            temp.next = new_node\n",
    "            self.head = new_node\n",
    "            \n",
    "    def remove(self, data):\n",
    "        cur = self.head\n",
    "        # if deletion in beginning\n",
    "        if cur.data == data:\n",
    "            while cur.next != self.head:\n",
    "                cur = cur.next\n",
    "            if cur.data == cur.next.data: # in case of single node present\n",
    "                self.head = None\n",
    "                return\n",
    "            cur.next = self.head.next\n",
    "            self.head = self.head.next\n",
    "        # trying to delete node within a single loop (last node removal scenario)\n",
    "        # deletion in middle\n",
    "        while cur.next != self.head and cur.next.data != data:\n",
    "            cur = cur.next\n",
    "        if cur.next != self.head:\n",
    "            cur.next = cur.next.next\n",
    "        # deletion in end\n",
    "        temp = self.head\n",
    "        while temp.next.next != self.head:\n",
    "            temp = temp.next\n",
    "        if temp.next.data == data:\n",
    "            temp.next = self.head\n",
    "            \n",
    "    # method 2\n",
    "    def removeNode(self, data):\n",
    "        cur = self.head\n",
    "        # if deletion in beginning\n",
    "        if cur.data == data:\n",
    "            while cur.next != self.head:\n",
    "                cur = cur.next\n",
    "            if cur.data == cur.next.data: # in case of single node present\n",
    "                self.head = None\n",
    "                return\n",
    "            cur.next = self.head.next\n",
    "            self.head = self.head.next\n",
    "        else:\n",
    "            # trying to delete node even if loop runs multiple times (last node removal scenario)\n",
    "            prev = None\n",
    "            while cur.next != self.head:\n",
    "                prev = cur\n",
    "                cur = cur.next\n",
    "                if cur.data == data:\n",
    "                    prev.next = cur.next\n",
    "                    cur = cur.next"
   ]
  },
  {
   "cell_type": "code",
   "execution_count": 38,
   "metadata": {},
   "outputs": [
    {
     "name": "stdout",
     "output_type": "stream",
     "text": [
      "4 3 1 2 5 "
     ]
    }
   ],
   "source": [
    "llist = CircularLinkedList()\n",
    "llist.append(1)\n",
    "llist.append(2)\n",
    "llist.prepend(3)\n",
    "llist.prepend(4)\n",
    "llist.append(5)\n",
    "llist.printList()\n"
   ]
  },
  {
   "cell_type": "code",
   "execution_count": 39,
   "metadata": {},
   "outputs": [
    {
     "name": "stdout",
     "output_type": "stream",
     "text": [
      "4 3 1 2 "
     ]
    }
   ],
   "source": [
    "llist.removeNode(5)\n",
    "llist.printList()"
   ]
  },
  {
   "cell_type": "code",
   "execution_count": 40,
   "metadata": {},
   "outputs": [
    {
     "name": "stdout",
     "output_type": "stream",
     "text": [
      "3 1 2 "
     ]
    }
   ],
   "source": [
    "llist.removeNode(4)\n",
    "llist.printList()"
   ]
  },
  {
   "cell_type": "code",
   "execution_count": 41,
   "metadata": {},
   "outputs": [
    {
     "name": "stdout",
     "output_type": "stream",
     "text": [
      "2 "
     ]
    }
   ],
   "source": [
    "llist.remove(1)\n",
    "llist.remove(3)\n",
    "llist.printList()"
   ]
  },
  {
   "cell_type": "code",
   "execution_count": null,
   "metadata": {},
   "outputs": [],
   "source": []
  }
 ],
 "metadata": {
  "kernelspec": {
   "display_name": "Python 3",
   "language": "python",
   "name": "python3"
  },
  "language_info": {
   "codemirror_mode": {
    "name": "ipython",
    "version": 3
   },
   "file_extension": ".py",
   "mimetype": "text/x-python",
   "name": "python",
   "nbconvert_exporter": "python",
   "pygments_lexer": "ipython3",
   "version": "3.6.9"
  }
 },
 "nbformat": 4,
 "nbformat_minor": 4
}
