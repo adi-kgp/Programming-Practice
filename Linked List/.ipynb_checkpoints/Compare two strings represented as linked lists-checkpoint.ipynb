{
 "cells": [
  {
   "cell_type": "code",
   "execution_count": 1,
   "metadata": {},
   "outputs": [],
   "source": [
    "# Given two strings, represented as linked lists (every character is a node in a linked list). \n",
    "# Write a function compare() that works similar to strcmp(), i.e., it returns 0 if both strings are same, \n",
    "# 1 if first linked list is lexicographically greater, and -1 if the second string is lexicographically greater."
   ]
  },
  {
   "cell_type": "code",
   "execution_count": 3,
   "metadata": {},
   "outputs": [],
   "source": [
    "class Node:\n",
    "    def __init__(self,data):\n",
    "        self.next = None\n",
    "        self.data = data\n",
    "        \n",
    "list1 = Node('h') \n",
    "list1.next = Node('e') \n",
    "list1.next.next = Node('l') \n",
    "list1.next.next.next = Node('l') \n",
    "list1.next.next.next.next = Node('o') \n",
    "list1.next.next.next.next.next = Node('b') \n",
    "\n",
    "\n",
    "list2 = Node('h') \n",
    "list2.next = Node('e') \n",
    "list2.next.next = Node('l') \n",
    "list2.next.next.next = Node('l') \n",
    "list2.next.next.next.next = Node('o') \n",
    "list2.next.next.next.next.next = Node('a')\n",
    "            \n",
    "def compare(list1, list2):\n",
    "    # travese both lists until they empty or values different\n",
    "    while(list1 and list2 and list1.data == list2.data):\n",
    "        list1 = list1.next\n",
    "        list2 = list2.next\n",
    "        \n",
    "    if (list1 and list2):\n",
    "        return 1 if (list1.data > list2.data) else -1 \n",
    "    \n",
    "    if (list1 and not list2):\n",
    "        return 1\n",
    "    \n",
    "    if (list2 and not list1):\n",
    "        return -1\n",
    "    else:\n",
    "        return 0\n",
    "    "
   ]
  },
  {
   "cell_type": "code",
   "execution_count": 4,
   "metadata": {},
   "outputs": [
    {
     "data": {
      "text/plain": [
       "1"
      ]
     },
     "execution_count": 4,
     "metadata": {},
     "output_type": "execute_result"
    }
   ],
   "source": [
    "compare(list1,list2)"
   ]
  },
  {
   "cell_type": "code",
   "execution_count": null,
   "metadata": {},
   "outputs": [],
   "source": []
  }
 ],
 "metadata": {
  "kernelspec": {
   "display_name": "Python 3",
   "language": "python",
   "name": "python3"
  },
  "language_info": {
   "codemirror_mode": {
    "name": "ipython",
    "version": 3
   },
   "file_extension": ".py",
   "mimetype": "text/x-python",
   "name": "python",
   "nbconvert_exporter": "python",
   "pygments_lexer": "ipython3",
   "version": "3.6.9"
  }
 },
 "nbformat": 4,
 "nbformat_minor": 2
}
