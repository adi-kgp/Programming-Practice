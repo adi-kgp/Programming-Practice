{
 "cells": [
  {
   "cell_type": "code",
   "execution_count": null,
   "metadata": {},
   "outputs": [],
   "source": [
    "#Merge Two Sorted Linked Lists"
   ]
  },
  {
   "cell_type": "code",
   "execution_count": 29,
   "metadata": {},
   "outputs": [],
   "source": [
    "class Node:\n",
    "    def __init__(self,data):\n",
    "        self.data = data\n",
    "        self.next = None\n",
    "        \n",
    "class LinkedList:\n",
    "    def __init__(self):\n",
    "        self.head=None\n",
    "        \n",
    "    def append(self,val):\n",
    "        node = Node(val)\n",
    "        if self.head == None:\n",
    "            self.head = node\n",
    "            return\n",
    "        temp = self.head\n",
    "        while temp.next:\n",
    "            temp = temp.next\n",
    "        temp.next = node\n",
    "        \n",
    "    def printList(self):\n",
    "        temp = self.head\n",
    "        while temp:\n",
    "            print(temp.data,end=' ')\n",
    "            temp = temp.next\n",
    "        print(temp)\n",
    "    "
   ]
  },
  {
   "cell_type": "code",
   "execution_count": 30,
   "metadata": {},
   "outputs": [],
   "source": [
    "list1 = LinkedList()\n",
    "list1.append(1)\n",
    "list1.append(5)\n",
    "list1.append(7)\n",
    "list1.append(9)\n",
    "list1.append(10)\n",
    "list2 = LinkedList()\n",
    "list2.append(2)\n",
    "list2.append(3)\n",
    "list2.append(4)\n",
    "list2.append(6)\n",
    "list2.append(8)"
   ]
  },
  {
   "cell_type": "code",
   "execution_count": 31,
   "metadata": {},
   "outputs": [
    {
     "name": "stdout",
     "output_type": "stream",
     "text": [
      "1 5 7 9 10 None\n",
      "2 3 4 6 8 None\n"
     ]
    }
   ],
   "source": [
    "list1.printList()\n",
    "list2.printList()"
   ]
  },
  {
   "cell_type": "code",
   "execution_count": 32,
   "metadata": {},
   "outputs": [],
   "source": [
    "def mergeList(list1,list2):\n",
    "    curr1 = list1.head\n",
    "    curr2 = list2.head\n",
    "    mlist = LinkedList()\n",
    "    temp = None\n",
    "    if curr1.data <= curr2.data:\n",
    "        temp = curr1\n",
    "        curr1 = curr1.next\n",
    "    else:\n",
    "        temp = curr2\n",
    "        curr2 = curr2.next\n",
    "    mlist.head = temp\n",
    "    while curr1 and curr2:\n",
    "        if curr1.data <= curr2.data:\n",
    "            temp.next = curr1\n",
    "            curr1 = curr1.next\n",
    "            temp = temp.next\n",
    "        else:\n",
    "            temp.next = curr2\n",
    "            curr2 = curr2.next\n",
    "            temp = temp.next\n",
    "    if curr1:\n",
    "        temp.next = curr1\n",
    "    if curr2:\n",
    "        temp.next = curr2\n",
    "    return mlist"
   ]
  },
  {
   "cell_type": "code",
   "execution_count": 33,
   "metadata": {},
   "outputs": [
    {
     "name": "stdout",
     "output_type": "stream",
     "text": [
      "1 2 3 4 5 6 7 8 9 10 None\n"
     ]
    }
   ],
   "source": [
    "mlist = mergeList(list1,list2)\n",
    "mlist.printList()"
   ]
  },
  {
   "cell_type": "code",
   "execution_count": null,
   "metadata": {},
   "outputs": [],
   "source": []
  }
 ],
 "metadata": {
  "kernelspec": {
   "display_name": "Python 3",
   "language": "python",
   "name": "python3"
  },
  "language_info": {
   "codemirror_mode": {
    "name": "ipython",
    "version": 3
   },
   "file_extension": ".py",
   "mimetype": "text/x-python",
   "name": "python",
   "nbconvert_exporter": "python",
   "pygments_lexer": "ipython3",
   "version": "3.6.9"
  }
 },
 "nbformat": 4,
 "nbformat_minor": 2
}
