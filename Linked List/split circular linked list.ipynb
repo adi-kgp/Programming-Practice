{
 "cells": [
  {
   "cell_type": "code",
   "execution_count": 1,
   "metadata": {},
   "outputs": [],
   "source": [
    "# Create two circular linked lists from a single circular linked list"
   ]
  },
  {
   "cell_type": "code",
   "execution_count": 19,
   "metadata": {},
   "outputs": [],
   "source": [
    "class Node:\n",
    "    def __init__(self,data):\n",
    "        self.data = data\n",
    "        self.next = None\n",
    "\n",
    "class CircularLinkedList:\n",
    "    def __init__(self):\n",
    "        self.head = None\n",
    "        \n",
    "    def append(self, data):\n",
    "        new_node = Node(data)\n",
    "        if self.head == None:\n",
    "            self.head = new_node\n",
    "            new_node.next = self.head\n",
    "        else:\n",
    "            temp =self.head\n",
    "            while temp.next != self.head:\n",
    "                temp = temp.next\n",
    "            temp.next = new_node\n",
    "            new_node.next = self.head\n",
    "            \n",
    "    def length(self):\n",
    "        count = 0\n",
    "        if self.head == None:\n",
    "            return count\n",
    "        else:\n",
    "            temp = self.head\n",
    "            while temp:\n",
    "                count += 1\n",
    "                temp = temp.next\n",
    "                if temp == self.head:\n",
    "                    break\n",
    "        return count\n",
    "    \n",
    "    def split_list(self, key, clist):\n",
    "        if key > self.length():\n",
    "            print('key greater than number of nodes in linked list')\n",
    "        else:\n",
    "            count = 1\n",
    "            temp = self.head\n",
    "            prev = None\n",
    "            while temp.next != self.head:\n",
    "                if count == key:\n",
    "                    prev = temp\n",
    "                count += 1\n",
    "                temp = temp.next\n",
    "            clist.head = prev.next\n",
    "            prev.next = self.head\n",
    "            temp.next = clist.head\n",
    "            \n",
    "    def printList(self):\n",
    "        temp = self.head\n",
    "        while temp:\n",
    "            print(temp.data, end=' ')\n",
    "            temp = temp.next\n",
    "            if temp == self.head:\n",
    "                break"
   ]
  },
  {
   "cell_type": "code",
   "execution_count": 27,
   "metadata": {},
   "outputs": [
    {
     "name": "stdout",
     "output_type": "stream",
     "text": [
      "1 2 3 4 5 "
     ]
    },
    {
     "data": {
      "text/plain": [
       "5"
      ]
     },
     "execution_count": 27,
     "metadata": {},
     "output_type": "execute_result"
    }
   ],
   "source": [
    "clist = CircularLinkedList()\n",
    "clist.append(1)\n",
    "clist.append(2)\n",
    "clist.append(3)\n",
    "clist.append(4)\n",
    "clist.append(5)\n",
    "clist.printList()\n",
    "clist.length()"
   ]
  },
  {
   "cell_type": "code",
   "execution_count": 28,
   "metadata": {},
   "outputs": [
    {
     "name": "stdout",
     "output_type": "stream",
     "text": [
      "1 \n",
      "\n",
      "2 3 4 5 "
     ]
    }
   ],
   "source": [
    "clist2 = CircularLinkedList()\n",
    "clist.split_list(1, clist2)\n",
    "clist.printList()\n",
    "print('\\n')\n",
    "clist2.printList()"
   ]
  },
  {
   "cell_type": "code",
   "execution_count": null,
   "metadata": {},
   "outputs": [],
   "source": []
  },
  {
   "cell_type": "code",
   "execution_count": null,
   "metadata": {},
   "outputs": [],
   "source": []
  }
 ],
 "metadata": {
  "kernelspec": {
   "display_name": "Python 3",
   "language": "python",
   "name": "python3"
  },
  "language_info": {
   "codemirror_mode": {
    "name": "ipython",
    "version": 3
   },
   "file_extension": ".py",
   "mimetype": "text/x-python",
   "name": "python",
   "nbconvert_exporter": "python",
   "pygments_lexer": "ipython3",
   "version": "3.6.9"
  }
 },
 "nbformat": 4,
 "nbformat_minor": 4
}
