{
 "cells": [
  {
   "cell_type": "code",
   "execution_count": 1,
   "metadata": {},
   "outputs": [
    {
     "data": {
      "text/plain": [
       "'Remove duplicate nodes in a linked list\\n    given list = 1 -> 6 -> 1 -> 4 -> 2 -> 2 -> 4\\n    returned List = 1 -> 6 -> 4 -> 2\\n'"
      ]
     },
     "execution_count": 1,
     "metadata": {},
     "output_type": "execute_result"
    }
   ],
   "source": [
    "'''Remove duplicate nodes in a linked list\n",
    "    given list = 1 -> 6 -> 1 -> 4 -> 2 -> 2 -> 4\n",
    "    returned List = 1 -> 6 -> 4 -> 2\n",
    "'''"
   ]
  },
  {
   "cell_type": "code",
   "execution_count": 11,
   "metadata": {},
   "outputs": [],
   "source": [
    "class Node:\n",
    "    def __init__(self,data):\n",
    "        self.data = data\n",
    "        self.next = None\n",
    "\n",
    "class LinkedList:\n",
    "    def __init__(self):\n",
    "        self.head = None\n",
    "    \n",
    "    def append(self,val):\n",
    "        node = Node(val)\n",
    "        if self.head == None:\n",
    "            self.head = node\n",
    "            return\n",
    "        temp = self.head\n",
    "        while temp.next:\n",
    "            temp = temp.next\n",
    "        temp.next = node\n",
    "    \n",
    "    def printList(self):\n",
    "        temp = self.head\n",
    "        while temp:\n",
    "            print(temp.data, end=' ')\n",
    "            temp = temp.next\n",
    "        print(temp)\n",
    "    \n",
    "    def removeDuplicates(self):\n",
    "        duplicates = {}\n",
    "        prev = None\n",
    "        curr = self.head\n",
    "        while curr:\n",
    "            if curr.data in duplicates:\n",
    "                prev.next = curr.next\n",
    "                curr = None\n",
    "            else:\n",
    "                duplicates[curr.data] = 1\n",
    "                prev = curr\n",
    "            curr = prev.next"
   ]
  },
  {
   "cell_type": "code",
   "execution_count": 12,
   "metadata": {},
   "outputs": [],
   "source": [
    "llist = LinkedList()\n",
    "llist.append(1)\n",
    "llist.append(6)\n",
    "llist.append(1)\n",
    "llist.append(4)\n",
    "llist.append(2)\n",
    "llist.append(2)\n",
    "llist.append(4)"
   ]
  },
  {
   "cell_type": "code",
   "execution_count": 13,
   "metadata": {},
   "outputs": [
    {
     "name": "stdout",
     "output_type": "stream",
     "text": [
      "1 6 1 4 2 2 4 None\n"
     ]
    }
   ],
   "source": [
    "llist.printList()"
   ]
  },
  {
   "cell_type": "code",
   "execution_count": 14,
   "metadata": {},
   "outputs": [
    {
     "name": "stdout",
     "output_type": "stream",
     "text": [
      "1 6 4 2 None\n"
     ]
    }
   ],
   "source": [
    "llist.removeDuplicates()\n",
    "llist.printList()"
   ]
  },
  {
   "cell_type": "code",
   "execution_count": 10,
   "metadata": {},
   "outputs": [],
   "source": []
  },
  {
   "cell_type": "code",
   "execution_count": null,
   "metadata": {},
   "outputs": [],
   "source": []
  }
 ],
 "metadata": {
  "celltoolbar": "Raw Cell Format",
  "kernelspec": {
   "display_name": "Python 3",
   "language": "python",
   "name": "python3"
  },
  "language_info": {
   "codemirror_mode": {
    "name": "ipython",
    "version": 3
   },
   "file_extension": ".py",
   "mimetype": "text/x-python",
   "name": "python",
   "nbconvert_exporter": "python",
   "pygments_lexer": "ipython3",
   "version": "3.6.9"
  }
 },
 "nbformat": 4,
 "nbformat_minor": 2
}
