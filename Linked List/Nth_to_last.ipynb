{
 "cells": [
  {
   "cell_type": "code",
   "execution_count": 1,
   "metadata": {},
   "outputs": [],
   "source": [
    "# return Nth to last node"
   ]
  },
  {
   "cell_type": "code",
   "execution_count": 5,
   "metadata": {},
   "outputs": [],
   "source": [
    "class Node:\n",
    "    def __init__(self,data):\n",
    "        self.data = data\n",
    "        self.next = None\n",
    "        \n",
    "class LinkedList:\n",
    "    def __init__(self):\n",
    "        self.head=None\n",
    "        \n",
    "    def append(self,val):\n",
    "        node = Node(val)\n",
    "        if self.head == None:\n",
    "            self.head = node\n",
    "            return\n",
    "        temp = self.head\n",
    "        while temp.next:\n",
    "            temp = temp.next\n",
    "        temp.next = node\n",
    "        \n",
    "    def printList(self):\n",
    "        temp = self.head\n",
    "        while temp:\n",
    "            print(temp.data,end=' ')\n",
    "            temp = temp.next\n",
    "        print(temp)\n",
    "        \n",
    "    def countNodes(self): #iterative\n",
    "        count = 0\n",
    "        temp = self.head\n",
    "        while temp:\n",
    "            count += 1\n",
    "            temp = temp.next\n",
    "        return count\n",
    "    \n",
    "    def countNode(self, temp, count): # recursive\n",
    "        if not temp:\n",
    "            return 0\n",
    "        return 1 +  self.countNode(temp.next)\n",
    "        \n",
    "    \n",
    "    def Nth_node_last(self, n):\n",
    "        length = self.countNodes()\n",
    "        temp = self.head\n",
    "        l = length\n",
    "        while temp:\n",
    "            if l == n:\n",
    "                return temp.data\n",
    "            l -= 1\n",
    "            temp = temp.next\n",
    "        "
   ]
  },
  {
   "cell_type": "code",
   "execution_count": 6,
   "metadata": {},
   "outputs": [
    {
     "name": "stdout",
     "output_type": "stream",
     "text": [
      "E\n"
     ]
    }
   ],
   "source": [
    "llist = LinkedList()\n",
    "llist.append('A')\n",
    "llist.append('B')\n",
    "llist.append('C')\n",
    "llist.append('D')\n",
    "llist.append('E')\n",
    "llist.append('F')\n",
    "node = llist.Nth_node_last(2)\n",
    "print(node)"
   ]
  },
  {
   "cell_type": "code",
   "execution_count": null,
   "metadata": {},
   "outputs": [],
   "source": []
  }
 ],
 "metadata": {
  "kernelspec": {
   "display_name": "Python 3",
   "language": "python",
   "name": "python3"
  },
  "language_info": {
   "codemirror_mode": {
    "name": "ipython",
    "version": 3
   },
   "file_extension": ".py",
   "mimetype": "text/x-python",
   "name": "python",
   "nbconvert_exporter": "python",
   "pygments_lexer": "ipython3",
   "version": "3.6.9"
  }
 },
 "nbformat": 4,
 "nbformat_minor": 2
}
