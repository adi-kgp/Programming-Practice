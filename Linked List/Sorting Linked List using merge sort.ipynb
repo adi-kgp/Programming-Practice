{
 "cells": [
  {
   "cell_type": "code",
   "execution_count": 1,
   "metadata": {},
   "outputs": [],
   "source": [
    "#Sorting a Linked List using Merge Sort"
   ]
  },
  {
   "cell_type": "code",
   "execution_count": 4,
   "metadata": {},
   "outputs": [],
   "source": [
    "class Node:\n",
    "    def __init__(self,data):\n",
    "        self.data = data\n",
    "        self.next = None\n",
    "        \n",
    "class LinkedList:\n",
    "    def __init__(self):\n",
    "        self.head = None\n",
    "        \n",
    "    def push(self,data):\n",
    "        new_node = Node(data)\n",
    "        new_node.next = self.head\n",
    "        self.head = new_node\n",
    "        \n",
    "    def printList(self, head):\n",
    "        while(head):\n",
    "            print(head.data, end=' ')\n",
    "            head = head.next\n",
    "        print(head)\n",
    "        \n",
    "    def getMiddle(self,head):\n",
    "        #base case\n",
    "        if head==None:\n",
    "            return head\n",
    "        slow = head\n",
    "        fast = head\n",
    "        while(fast.next != None and fast.next.next != None):\n",
    "            slow = slow.next\n",
    "            fast = fast.next.next\n",
    "            \n",
    "        return slow\n",
    "    \n",
    "    def mergeSort(self,h):\n",
    "        #base case\n",
    "        if(h == None or h.next==None):\n",
    "            return h\n",
    "        \n",
    "        mid = self.getMiddle(h)\n",
    "        nextmid = mid.next\n",
    "        mid.next=None\n",
    "        \n",
    "        left = self.mergeSort(h)\n",
    "        right = self.mergeSort(nextmid)\n",
    "            \n",
    "        sortedList = self.sortedMerge(left,right)\n",
    "        return sortedList\n",
    "    \n",
    "    def sortedMerge(self,left,right):\n",
    "        #base case\n",
    "        if left==None:\n",
    "            return right\n",
    "        if right==None:\n",
    "            return left\n",
    "        # compare values and store in result\n",
    "        result = None\n",
    "        if left.data <= right.data:\n",
    "            result = left\n",
    "            result.next = self.sortedMerge(left.next,right)\n",
    "        else:\n",
    "            result = right\n",
    "            result.next = self.sortedMerge(left,right.next)\n",
    "        return result\n",
    "    "
   ]
  },
  {
   "cell_type": "code",
   "execution_count": 5,
   "metadata": {},
   "outputs": [
    {
     "name": "stdout",
     "output_type": "stream",
     "text": [
      "45 67 23 88 98 13 None\n"
     ]
    }
   ],
   "source": [
    "llist = LinkedList()\n",
    "llist.push(13)\n",
    "llist.push(98)\n",
    "llist.push(88)\n",
    "llist.push(23)\n",
    "llist.push(67)\n",
    "llist.push(45)\n",
    "llist.printList(llist.head)"
   ]
  },
  {
   "cell_type": "code",
   "execution_count": 6,
   "metadata": {},
   "outputs": [
    {
     "name": "stdout",
     "output_type": "stream",
     "text": [
      "13 23 45 67 88 98 None\n"
     ]
    }
   ],
   "source": [
    "new_head = llist.mergeSort(llist.head)\n",
    "llist.printList(new_head)"
   ]
  },
  {
   "cell_type": "code",
   "execution_count": null,
   "metadata": {},
   "outputs": [],
   "source": []
  }
 ],
 "metadata": {
  "kernelspec": {
   "display_name": "Python 3",
   "language": "python",
   "name": "python3"
  },
  "language_info": {
   "codemirror_mode": {
    "name": "ipython",
    "version": 3
   },
   "file_extension": ".py",
   "mimetype": "text/x-python",
   "name": "python",
   "nbconvert_exporter": "python",
   "pygments_lexer": "ipython3",
   "version": "3.6.9"
  }
 },
 "nbformat": 4,
 "nbformat_minor": 2
}
