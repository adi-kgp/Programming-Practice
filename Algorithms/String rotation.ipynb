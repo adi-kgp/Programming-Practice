{
 "cells": [
  {
   "cell_type": "code",
   "execution_count": 1,
   "metadata": {},
   "outputs": [
    {
     "data": {
      "text/plain": [
       "\"\\nString rotation. Given two strings s1 and s2, write code to check if s2 is a rotation of s1\\neg, 'waterbottle' is a rotation of 'erbottlewat'\\n\""
      ]
     },
     "execution_count": 1,
     "metadata": {},
     "output_type": "execute_result"
    }
   ],
   "source": [
    "'''\n",
    "String rotation. Given two strings s1 and s2, write code to check if s2 is a rotation of s1\n",
    "eg, 'waterbottle' is a rotation of 'erbottlewat'\n",
    "'''"
   ]
  },
  {
   "cell_type": "code",
   "execution_count": 2,
   "metadata": {},
   "outputs": [
    {
     "ename": "SyntaxError",
     "evalue": "invalid syntax (<ipython-input-2-94bea92eab6d>, line 10)",
     "output_type": "error",
     "traceback": [
      "\u001b[0;36m  File \u001b[0;32m\"<ipython-input-2-94bea92eab6d>\"\u001b[0;36m, line \u001b[0;32m10\u001b[0m\n\u001b[0;31m    for i in range(len(s1)):\u001b[0m\n\u001b[0m                           ^\u001b[0m\n\u001b[0;31mSyntaxError\u001b[0m\u001b[0;31m:\u001b[0m invalid syntax\n"
     ]
    }
   ],
   "source": [
    "import string\n",
    "\n",
    "def is_rotated(s1, s2):\n",
    "    if len(s1) != len(s2):\n",
    "        return False\n",
    "    s1 = s1.lower()\n",
    "    s2 = s2.lower()\n",
    "    dict1 = dict.fromkeys(list(string.ascii_lowercase,0)\n",
    "    dict2 = dict.fromkeys(list(string.ascii_lowercase),0)\n",
    "    for i in range(len(s1)):\n",
    "        dict1[s1[i]] += 1\n",
    "        dict2[s2[i]] += 1\n",
    "    return dict1 == dict2"
   ]
  },
  {
   "cell_type": "code",
   "execution_count": null,
   "metadata": {},
   "outputs": [],
   "source": []
  },
  {
   "cell_type": "code",
   "execution_count": null,
   "metadata": {},
   "outputs": [],
   "source": []
  }
 ],
 "metadata": {
  "kernelspec": {
   "display_name": "Python 3",
   "language": "python",
   "name": "python3"
  },
  "language_info": {
   "codemirror_mode": {
    "name": "ipython",
    "version": 3
   },
   "file_extension": ".py",
   "mimetype": "text/x-python",
   "name": "python",
   "nbconvert_exporter": "python",
   "pygments_lexer": "ipython3",
   "version": "3.6.9"
  }
 },
 "nbformat": 4,
 "nbformat_minor": 4
}
