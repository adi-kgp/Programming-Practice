{
 "cells": [
  {
   "cell_type": "code",
   "execution_count": 1,
   "metadata": {},
   "outputs": [
    {
     "data": {
      "text/plain": [
       "'\\nGiven a N cross M matrix in which each row is sorted, find the overall median of the matrix.\\nAssume N*M is odd.\\nExample,\\nmatrix = \\n[1,3,5]\\n[2,6,9]\\n[3,6,9]\\nA = [1,2,3,3,5,6,6,9,9]\\nMedian is 5, so we return 5.\\n'"
      ]
     },
     "execution_count": 1,
     "metadata": {},
     "output_type": "execute_result"
    }
   ],
   "source": [
    "'''\n",
    "Given a N cross M matrix in which each row is sorted, find the overall median of the matrix.\n",
    "Assume N*M is odd.\n",
    "Example,\n",
    "matrix = \n",
    "[1,3,5]\n",
    "[2,6,9]\n",
    "[3,6,9]\n",
    "A = [1,2,3,3,5,6,6,9,9]\n",
    "Median is 5, so we return 5.\n",
    "'''"
   ]
  },
  {
   "cell_type": "code",
   "execution_count": 4,
   "metadata": {},
   "outputs": [
    {
     "name": "stdout",
     "output_type": "stream",
     "text": [
      "5\n"
     ]
    }
   ],
   "source": [
    "def median_matrix(A):\n",
    "    if len(A) == 1:\n",
    "        return A[0]\n",
    "    else:\n",
    "        new_list = []\n",
    "        for row in range(len(A)):\n",
    "            new_list.extend(A[row])\n",
    "        new_list = sorted(new_list)\n",
    "    return new_list[len(new_list)//2]\n",
    "\n",
    "l1 = [1,3,5]\n",
    "l2 = [2,6,9]\n",
    "l3 = [3,6,9]\n",
    "A = [l1,l2,l3]\n",
    "print(median_matrix(A))"
   ]
  },
  {
   "cell_type": "code",
   "execution_count": 2,
   "metadata": {},
   "outputs": [
    {
     "data": {
      "text/plain": [
       "5"
      ]
     },
     "execution_count": 2,
     "metadata": {},
     "output_type": "execute_result"
    }
   ],
   "source": []
  },
  {
   "cell_type": "code",
   "execution_count": null,
   "metadata": {},
   "outputs": [],
   "source": []
  }
 ],
 "metadata": {
  "kernelspec": {
   "display_name": "Python 3",
   "language": "python",
   "name": "python3"
  },
  "language_info": {
   "codemirror_mode": {
    "name": "ipython",
    "version": 3
   },
   "file_extension": ".py",
   "mimetype": "text/x-python",
   "name": "python",
   "nbconvert_exporter": "python",
   "pygments_lexer": "ipython3",
   "version": "3.6.9"
  }
 },
 "nbformat": 4,
 "nbformat_minor": 4
}
