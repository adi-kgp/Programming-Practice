{
 "cells": [
  {
   "cell_type": "code",
   "execution_count": 1,
   "metadata": {},
   "outputs": [
    {
     "data": {
      "text/plain": [
       "'\\nThe look and say sequence algorithm\\n1\\n11\\n21\\n1211\\n111221\\n'"
      ]
     },
     "execution_count": 1,
     "metadata": {},
     "output_type": "execute_result"
    }
   ],
   "source": [
    "'''\n",
    "The look and say sequence algorithm\n",
    "1\n",
    "11\n",
    "21\n",
    "1211\n",
    "111221\n",
    "''' "
   ]
  },
  {
   "cell_type": "code",
   "execution_count": 3,
   "metadata": {},
   "outputs": [
    {
     "name": "stdout",
     "output_type": "stream",
     "text": [
      "11\n",
      "21\n",
      "1211\n",
      "111221\n"
     ]
    }
   ],
   "source": [
    "def look_and_say(s):\n",
    "    i=0\n",
    "    result = []\n",
    "    while i < len(s):\n",
    "        count = 1\n",
    "        while i+1 < len(s) and s[i] == s[i+1]:\n",
    "            count += 1\n",
    "            i += 1\n",
    "        result.append(str(count) + s[i])\n",
    "        i += 1\n",
    "    return ''.join(result)\n",
    "\n",
    "initial_str = '1'\n",
    "n = 4\n",
    "for i in range(n):\n",
    "    s = look_and_say(initial_str)\n",
    "    print(s)\n",
    "    initial_str = s"
   ]
  },
  {
   "cell_type": "code",
   "execution_count": null,
   "metadata": {},
   "outputs": [],
   "source": []
  }
 ],
 "metadata": {
  "kernelspec": {
   "display_name": "Python 3",
   "language": "python",
   "name": "python3"
  },
  "language_info": {
   "codemirror_mode": {
    "name": "ipython",
    "version": 3
   },
   "file_extension": ".py",
   "mimetype": "text/x-python",
   "name": "python",
   "nbconvert_exporter": "python",
   "pygments_lexer": "ipython3",
   "version": "3.6.9"
  }
 },
 "nbformat": 4,
 "nbformat_minor": 4
}
