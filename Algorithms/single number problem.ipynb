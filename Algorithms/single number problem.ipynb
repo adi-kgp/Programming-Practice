{
 "cells": [
  {
   "cell_type": "code",
   "execution_count": 1,
   "metadata": {},
   "outputs": [
    {
     "data": {
      "text/plain": [
       "'\\ngiven an array of integers, every element appears twice except one. Find that single one. Algo must be\\nlinear run time. Can this be implemented without using extra memory ?\\n'"
      ]
     },
     "execution_count": 1,
     "metadata": {},
     "output_type": "execute_result"
    }
   ],
   "source": [
    "'''\n",
    "given an array of integers, every element appears twice except one. Find that single one. Algo must be\n",
    "linear run time. Can this be implemented without using extra memory ?\n",
    "'''"
   ]
  },
  {
   "cell_type": "code",
   "execution_count": 24,
   "metadata": {},
   "outputs": [],
   "source": [
    "# linear time but extra space\n",
    "def find_single_number(arr):\n",
    "    dic = {}\n",
    "    for i in range(len(arr)):\n",
    "        if arr[i] in dic:\n",
    "            dic[arr[i]] += 1\n",
    "        else:\n",
    "            dic[arr[i]] = 1\n",
    "    for i in dic:\n",
    "        if dic[i] == 1:\n",
    "            return i\n",
    "    return 'not found'"
   ]
  },
  {
   "cell_type": "code",
   "execution_count": 25,
   "metadata": {},
   "outputs": [
    {
     "data": {
      "text/plain": [
       "3"
      ]
     },
     "execution_count": 25,
     "metadata": {},
     "output_type": "execute_result"
    }
   ],
   "source": [
    "arr = [1,1,2,2,3,4,4,5,5]\n",
    "find_single_number(arr)"
   ]
  },
  {
   "cell_type": "code",
   "execution_count": 37,
   "metadata": {},
   "outputs": [],
   "source": [
    "# to solve in linear time and linear space, we use XOR function\n",
    "# b1 | b2\n",
    "# 0  0: 0\n",
    "# 0  1: 1\n",
    "# 1  0: 1\n",
    "# 1  1: 0\n",
    "def single_number(arr):\n",
    "    ans = 0\n",
    "    for i in range(len(arr)):\n",
    "        ans ^= arr[i]\n",
    "    return ans"
   ]
  },
  {
   "cell_type": "code",
   "execution_count": 38,
   "metadata": {},
   "outputs": [
    {
     "data": {
      "text/plain": [
       "3"
      ]
     },
     "execution_count": 38,
     "metadata": {},
     "output_type": "execute_result"
    }
   ],
   "source": [
    "arr = [1,1,2,2,3,4,4,5,5]\n",
    "single_number(arr)"
   ]
  },
  {
   "cell_type": "code",
   "execution_count": null,
   "metadata": {},
   "outputs": [],
   "source": []
  }
 ],
 "metadata": {
  "kernelspec": {
   "display_name": "Python 3",
   "language": "python",
   "name": "python3"
  },
  "language_info": {
   "codemirror_mode": {
    "name": "ipython",
    "version": 3
   },
   "file_extension": ".py",
   "mimetype": "text/x-python",
   "name": "python",
   "nbconvert_exporter": "python",
   "pygments_lexer": "ipython3",
   "version": "3.6.9"
  }
 },
 "nbformat": 4,
 "nbformat_minor": 4
}
