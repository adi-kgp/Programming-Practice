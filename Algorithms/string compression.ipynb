{
 "cells": [
  {
   "cell_type": "code",
   "execution_count": 1,
   "metadata": {},
   "outputs": [
    {
     "data": {
      "text/plain": [
       "'\\nString Compression: Implement a method to perform basic string compression using the counts of repeated\\ncharacters. For example, the string aabcccccaaa would become a2b1c5a3. If the compressed string would not \\nbecome smaller than the original string, return the original string instead. You can assume that string has\\nonly uppercase and lowercase characters (A-z)\\n'"
      ]
     },
     "execution_count": 1,
     "metadata": {},
     "output_type": "execute_result"
    }
   ],
   "source": [
    "'''\n",
    "String Compression: Implement a method to perform basic string compression using the counts of repeated\n",
    "characters. For example, the string aabcccccaaa would become a2b1c5a3. If the compressed string would not \n",
    "become smaller than the original string, return the original string instead. You can assume that string has\n",
    "only uppercase and lowercase characters (A-z)\n",
    "'''"
   ]
  },
  {
   "cell_type": "code",
   "execution_count": 20,
   "metadata": {},
   "outputs": [],
   "source": [
    "def string_compression(string):\n",
    "    s = ''\n",
    "    count = 1\n",
    "    for i in range(len(string)-1):\n",
    "        if string[i] == string[i+1]:\n",
    "            count += 1\n",
    "        else:\n",
    "            s += string[i]+str(count)\n",
    "            count = 1\n",
    "    s += string[i] + str(count)\n",
    "    if len(s) >= len(string):\n",
    "        return string\n",
    "    return s"
   ]
  },
  {
   "cell_type": "code",
   "execution_count": 21,
   "metadata": {},
   "outputs": [
    {
     "name": "stdout",
     "output_type": "stream",
     "text": [
      "a3b3c3d1a4\n",
      "d3c2f2e2r5g9h1j1y1t2\n"
     ]
    }
   ],
   "source": [
    "input_str1 = 'aaabbbcccdaaaa'\n",
    "input_str2 = 'dddccffeerrrrrggggggggghjytt'\n",
    "print(string_compression(input_str1))\n",
    "print(string_compression(input_str2))"
   ]
  },
  {
   "cell_type": "code",
   "execution_count": null,
   "metadata": {},
   "outputs": [],
   "source": []
  }
 ],
 "metadata": {
  "kernelspec": {
   "display_name": "Python 3",
   "language": "python",
   "name": "python3"
  },
  "language_info": {
   "codemirror_mode": {
    "name": "ipython",
    "version": 3
   },
   "file_extension": ".py",
   "mimetype": "text/x-python",
   "name": "python",
   "nbconvert_exporter": "python",
   "pygments_lexer": "ipython3",
   "version": "3.6.9"
  }
 },
 "nbformat": 4,
 "nbformat_minor": 4
}
