{
 "cells": [
  {
   "cell_type": "code",
   "execution_count": 1,
   "metadata": {},
   "outputs": [
    {
     "data": {
      "text/plain": [
       "\"\\nGiven a positive integer, N, print all the integers from 1 to N.\\nFor multiples of 3, print 'Fizz' instead of the number and for multiples of 5 print 'Buzz'. For multiples of 3\\nand 5 print 'FizzBuzz'.\\n\""
      ]
     },
     "execution_count": 1,
     "metadata": {},
     "output_type": "execute_result"
    }
   ],
   "source": [
    "'''\n",
    "Given a positive integer, N, print all the integers from 1 to N.\n",
    "For multiples of 3, print 'Fizz' instead of the number and for multiples of 5 print 'Buzz'. For multiples of 3\n",
    "and 5 print 'FizzBuzz'.\n",
    "'''"
   ]
  },
  {
   "cell_type": "code",
   "execution_count": 8,
   "metadata": {},
   "outputs": [],
   "source": [
    "def fizzbuzz(n):\n",
    "    for i in range(1,n+1):\n",
    "        print(i, end=' ')\n",
    "        if i % 3 == 0 and i % 5 == 0:\n",
    "            print ('FizzBuzz')\n",
    "        elif i % 3 == 0:\n",
    "            print('Fizz')\n",
    "        elif i % 5 == 0:\n",
    "            print('Buzz')\n",
    "        else:\n",
    "            continue"
   ]
  },
  {
   "cell_type": "code",
   "execution_count": 9,
   "metadata": {},
   "outputs": [
    {
     "name": "stdout",
     "output_type": "stream",
     "text": [
      "1 2 3 Fizz\n",
      "4 5 Buzz\n",
      "6 Fizz\n",
      "7 8 9 Fizz\n",
      "10 Buzz\n",
      "11 12 Fizz\n",
      "13 14 15 FizzBuzz\n",
      "16 17 18 Fizz\n",
      "19 20 Buzz\n",
      "21 Fizz\n",
      "22 23 24 Fizz\n",
      "25 Buzz\n",
      "26 27 Fizz\n",
      "28 29 30 FizzBuzz\n",
      "31 32 33 Fizz\n",
      "34 35 Buzz\n",
      "36 Fizz\n",
      "37 38 39 Fizz\n",
      "40 Buzz\n",
      "41 42 Fizz\n",
      "43 44 45 FizzBuzz\n",
      "46 47 48 Fizz\n",
      "49 50 Buzz\n"
     ]
    }
   ],
   "source": [
    "n = 50\n",
    "fizzbuzz(n)"
   ]
  },
  {
   "cell_type": "code",
   "execution_count": null,
   "metadata": {},
   "outputs": [],
   "source": []
  }
 ],
 "metadata": {
  "kernelspec": {
   "display_name": "Python 3",
   "language": "python",
   "name": "python3"
  },
  "language_info": {
   "codemirror_mode": {
    "name": "ipython",
    "version": 3
   },
   "file_extension": ".py",
   "mimetype": "text/x-python",
   "name": "python",
   "nbconvert_exporter": "python",
   "pygments_lexer": "ipython3",
   "version": "3.6.9"
  }
 },
 "nbformat": 4,
 "nbformat_minor": 4
}
