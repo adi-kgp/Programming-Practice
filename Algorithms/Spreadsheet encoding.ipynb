{
 "cells": [
  {
   "cell_type": "code",
   "execution_count": 1,
   "metadata": {},
   "outputs": [
    {
     "data": {
      "text/plain": [
       "'string processing: spreadsheet encoding'"
      ]
     },
     "execution_count": 1,
     "metadata": {},
     "output_type": "execute_result"
    }
   ],
   "source": [
    "'''string processing: spreadsheet encoding'''"
   ]
  },
  {
   "cell_type": "code",
   "execution_count": 3,
   "metadata": {},
   "outputs": [
    {
     "name": "stdout",
     "output_type": "stream",
     "text": [
      "1\n",
      "27\n",
      "702\n"
     ]
    }
   ],
   "source": [
    "def spreadsheet_encode_column(col_str):\n",
    "    num=0\n",
    "    count = len(col_str) - 1\n",
    "    for s in col_str:\n",
    "        num += 26**count * (ord(s)-ord('A')+1)\n",
    "        count -= 1\n",
    "    return num\n",
    "\n",
    "# encode tests:\n",
    "print(spreadsheet_encode_column('A'))\n",
    "print(spreadsheet_encode_column('AA'))\n",
    "print(spreadsheet_encode_column('ZZ'))"
   ]
  },
  {
   "cell_type": "code",
   "execution_count": null,
   "metadata": {},
   "outputs": [],
   "source": []
  }
 ],
 "metadata": {
  "kernelspec": {
   "display_name": "Python 3",
   "language": "python",
   "name": "python3"
  },
  "language_info": {
   "codemirror_mode": {
    "name": "ipython",
    "version": 3
   },
   "file_extension": ".py",
   "mimetype": "text/x-python",
   "name": "python",
   "nbconvert_exporter": "python",
   "pygments_lexer": "ipython3",
   "version": "3.6.9"
  }
 },
 "nbformat": 4,
 "nbformat_minor": 4
}
