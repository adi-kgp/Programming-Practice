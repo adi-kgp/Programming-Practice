{
 "cells": [
  {
   "cell_type": "code",
   "execution_count": 1,
   "metadata": {},
   "outputs": [
    {
     "data": {
      "text/plain": [
       "\"\\nGiven two strings, check whether two strings are anagram of each other. Anagram of a string is another string \\nthat contains same characters, only the order of characters can be different. Example: 'act' and 'tac'.\\n\""
      ]
     },
     "execution_count": 1,
     "metadata": {},
     "output_type": "execute_result"
    }
   ],
   "source": [
    "'''\n",
    "Given two strings, check whether two strings are anagram of each other. Anagram of a string is another string \n",
    "that contains same characters, only the order of characters can be different. Example: 'act' and 'tac'.\n",
    "'''"
   ]
  },
  {
   "cell_type": "code",
   "execution_count": 2,
   "metadata": {},
   "outputs": [],
   "source": [
    "# approach 1\n",
    "def anagram(s1, s2):\n",
    "    if len(s1) != len(s2):\n",
    "        return False\n",
    "    dic = {}\n",
    "    for i in range(len(s1)):\n",
    "        if i in dic:\n",
    "            dic[i] += 1\n",
    "        else:\n",
    "            dic[i] = 1\n",
    "    for i in range(len(s2)):\n",
    "        if i in dic:\n",
    "            dic[i] -= 1\n",
    "        else:\n",
    "            return False\n",
    "    for i in dic:\n",
    "        if dic[i] != 0:\n",
    "            return False\n",
    "    return True"
   ]
  },
  {
   "cell_type": "code",
   "execution_count": 6,
   "metadata": {},
   "outputs": [
    {
     "name": "stdout",
     "output_type": "stream",
     "text": [
      "True\n",
      "False\n"
     ]
    }
   ],
   "source": [
    "s1 = 'practice makes perfect'\n",
    "s2 = 'perfect makes practice'\n",
    "s3 = 'allergy'\n",
    "s4 = 'allergic'\n",
    "print(anagram(s1,s2))\n",
    "print(anagram(s3,s4))"
   ]
  },
  {
   "cell_type": "code",
   "execution_count": 34,
   "metadata": {},
   "outputs": [],
   "source": [
    "# approach 2\n",
    "def anagram2(s1,s2):\n",
    "    if len(s1) != len(s2):\n",
    "        return False\n",
    "    else:\n",
    "        for i in range(len(s1)):\n",
    "            if s1[i] in s2:\n",
    "                s2 = s2.replace(s1[i],'',1)\n",
    "            else:\n",
    "                return False\n",
    "    return True"
   ]
  },
  {
   "cell_type": "code",
   "execution_count": 35,
   "metadata": {},
   "outputs": [
    {
     "name": "stdout",
     "output_type": "stream",
     "text": [
      "True\n",
      "False\n"
     ]
    }
   ],
   "source": [
    "s1 = 'practice makes perfect'\n",
    "s2 = 'perfect makes practice'\n",
    "s3 = 'allergy'\n",
    "s4 = 'allergic'\n",
    "print(anagram2(s1,s2))\n",
    "print(anagram2(s3,s4))"
   ]
  },
  {
   "cell_type": "code",
   "execution_count": 41,
   "metadata": {},
   "outputs": [],
   "source": [
    "# approach 3\n",
    "def anagram3(s1,s2):\n",
    "    s1 = s1.replace(' ','')\n",
    "    s2 = s2.replace(' ','')\n",
    "    if len(s1) != len(s2):\n",
    "        return False\n",
    "    s1 = s1.lower()\n",
    "    s2 = s2.lower()\n",
    "    alphabet = 'abcdefghijklmnoupqrstuvxyz'\n",
    "    dict1 = dict.fromkeys(list(alphabet),0)\n",
    "    dict2 = dict.fromkeys(list(alphabet),0)\n",
    "    for i in range(len(s1)):\n",
    "        dict1[s1[i]] += 1\n",
    "        dict2[s2[i]] += 1\n",
    "    return dict1 == dict2"
   ]
  },
  {
   "cell_type": "code",
   "execution_count": 43,
   "metadata": {},
   "outputs": [
    {
     "name": "stdout",
     "output_type": "stream",
     "text": [
      "True\n",
      "False\n"
     ]
    }
   ],
   "source": [
    "s1 = 'practice makes perfect'\n",
    "s2 = 'perfect Makes Practice'\n",
    "s3 = 'allergy'\n",
    "s4 = 'allergi'\n",
    "print(anagram3(s1,s2))\n",
    "print(anagram3(s3,s4))"
   ]
  },
  {
   "cell_type": "code",
   "execution_count": null,
   "metadata": {},
   "outputs": [],
   "source": []
  }
 ],
 "metadata": {
  "kernelspec": {
   "display_name": "Python 3",
   "language": "python",
   "name": "python3"
  },
  "language_info": {
   "codemirror_mode": {
    "name": "ipython",
    "version": 3
   },
   "file_extension": ".py",
   "mimetype": "text/x-python",
   "name": "python",
   "nbconvert_exporter": "python",
   "pygments_lexer": "ipython3",
   "version": "3.6.9"
  }
 },
 "nbformat": 4,
 "nbformat_minor": 4
}
