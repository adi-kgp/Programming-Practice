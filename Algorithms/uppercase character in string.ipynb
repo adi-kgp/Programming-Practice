{
 "cells": [
  {
   "cell_type": "code",
   "execution_count": 1,
   "metadata": {},
   "outputs": [],
   "source": [
    "# given a string, check if it has an uppercase character"
   ]
  },
  {
   "cell_type": "code",
   "execution_count": 7,
   "metadata": {},
   "outputs": [
    {
     "data": {
      "text/plain": [
       "'P'"
      ]
     },
     "execution_count": 7,
     "metadata": {},
     "output_type": "execute_result"
    }
   ],
   "source": [
    "# iterative\n",
    "def uppercase_iterative(string):\n",
    "    for i in range(len(string)):\n",
    "        if string[i].isupper():\n",
    "            return string[i]\n",
    "    return 'No uppercase letter found'\n",
    "\n",
    "def uppercase_recursive(string, index=0):\n",
    "    if string[index].isupper():\n",
    "        return string[index]\n",
    "    if index == len(string)-1:\n",
    "        return 'No uppercase letter found'\n",
    "    else:\n",
    "        return uppercase_recursive(string, index+1)\n",
    "    \n",
    "string1 = 'lucidprogramming'\n",
    "string2 = 'LucidProgramming'\n",
    "string3 = 'lucidProgramming'\n",
    "\n",
    "uppercase_iterative(string3)"
   ]
  },
  {
   "cell_type": "code",
   "execution_count": 8,
   "metadata": {},
   "outputs": [
    {
     "data": {
      "text/plain": [
       "'P'"
      ]
     },
     "execution_count": 8,
     "metadata": {},
     "output_type": "execute_result"
    }
   ],
   "source": [
    "uppercase_recursive(string3)"
   ]
  },
  {
   "cell_type": "code",
   "execution_count": null,
   "metadata": {},
   "outputs": [],
   "source": []
  }
 ],
 "metadata": {
  "kernelspec": {
   "display_name": "Python 3",
   "language": "python",
   "name": "python3"
  },
  "language_info": {
   "codemirror_mode": {
    "name": "ipython",
    "version": 3
   },
   "file_extension": ".py",
   "mimetype": "text/x-python",
   "name": "python",
   "nbconvert_exporter": "python",
   "pygments_lexer": "ipython3",
   "version": "3.6.9"
  }
 },
 "nbformat": 4,
 "nbformat_minor": 4
}
