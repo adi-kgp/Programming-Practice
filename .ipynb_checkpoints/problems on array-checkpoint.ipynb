{
 "cells": [
  {
   "cell_type": "code",
   "execution_count": 1,
   "metadata": {},
   "outputs": [],
   "source": [
    "# given a sorted array and a number x, find a pair of numbers from array whose sum is closest to x"
   ]
  },
  {
   "cell_type": "code",
   "execution_count": 5,
   "metadata": {},
   "outputs": [
    {
     "name": "stdout",
     "output_type": "stream",
     "text": [
      "15\n"
     ]
    }
   ],
   "source": [
    "# time complexity : O(n2)\n",
    "def pairSum(arr,x):\n",
    "    sum=0\n",
    "    n=len(arr)\n",
    "    diff=max(arr)*2\n",
    "    for i in range(n-1):\n",
    "        sum=arr[i]\n",
    "        for j in range(i+1,n):\n",
    "            sum += arr[j]\n",
    "            if abs(x-sum)<diff:\n",
    "                diff = abs(x-sum)\n",
    "    return diff\n",
    "                \n",
    "arr= [11,12,13,14,15,16,17]\n",
    "x = 12\n",
    "res = pairSum(arr,x)\n",
    "print(res)"
   ]
  },
  {
   "cell_type": "code",
   "execution_count": 4,
   "metadata": {},
   "outputs": [
    {
     "name": "stdout",
     "output_type": "stream",
     "text": [
      "(4, 6)\n"
     ]
    }
   ],
   "source": [
    "# time complexity O(n)\n",
    "def pairSumMin(arr,sume):\n",
    "    l=0\n",
    "    r=len(arr)-1\n",
    "    diff = 10000000\n",
    "    res_l=res_r = 0\n",
    "    while l<r:\n",
    "        if abs(arr[l]+arr[r]-sume)<diff:\n",
    "            diff = abs(arr[l]+arr[r]-sume)\n",
    "            res_l = l\n",
    "            res_r = r\n",
    "        if (arr[l]+arr[r])>=sume:\n",
    "            r -= 1\n",
    "        if (arr[l]+arr[r])<sume:\n",
    "            l += 1\n",
    "    return (arr[res_l],arr[res_r])\n",
    "\n",
    "arr= [4,5,6,7,8,9,10,11]\n",
    "x = 10\n",
    "res = pairSumMin(arr,x)\n",
    "print(res)"
   ]
  },
  {
   "cell_type": "code",
   "execution_count": 6,
   "metadata": {},
   "outputs": [],
   "source": [
    "# given an unsorted array, print Kth largest/smallest element in the array. All elements are distinct."
   ]
  },
  {
   "cell_type": "code",
   "execution_count": 17,
   "metadata": {},
   "outputs": [
    {
     "name": "stdout",
     "output_type": "stream",
     "text": [
      "4\n"
     ]
    }
   ],
   "source": [
    "# Kth smallest element using Nlog(N) time\n",
    "def ksmallestElement(arr,k):\n",
    "    mergeSort(arr)\n",
    "    return arr[k-1]\n",
    "\n",
    "def mergeSort(arr):\n",
    "    if len(arr)>1:\n",
    "        mid = len(arr)//2\n",
    "        left = arr[:mid]\n",
    "        right = arr[mid:]\n",
    "        mergeSort(left)\n",
    "        mergeSort(right)\n",
    "        i=j=k=0\n",
    "        while i<len(left) and j<len(right):\n",
    "            if left[i]<right[j]:\n",
    "                arr[k] = left[i]\n",
    "                i += 1\n",
    "            else:\n",
    "                arr[k] = right[j]\n",
    "                j+= 1\n",
    "            k += 1\n",
    "        while i< len(left):\n",
    "            arr[k] = left[i]\n",
    "            k += 1\n",
    "            i+= 1\n",
    "        while j < len(right):\n",
    "            arr[k] = right[j]\n",
    "            j += 1\n",
    "            k += 1\n",
    "\n",
    "arr=[2,3,45,23,57,33,6,29,4,7]\n",
    "k = 3\n",
    "res = ksmallestElement(arr,k)\n",
    "print(res)"
   ]
  },
  {
   "cell_type": "code",
   "execution_count": 29,
   "metadata": {},
   "outputs": [
    {
     "name": "stdout",
     "output_type": "stream",
     "text": [
      "[6, 5, 4, 3, 2]\n"
     ]
    }
   ],
   "source": [
    "# reverse elements in an array\n",
    "def reverseElements(arr):\n",
    "    rev=[]\n",
    "    for i in range(len(arr)-1,-1,-1):\n",
    "        rev.append(arr[i])\n",
    "    return rev\n",
    "res = reverseElements([2,3,4,5,6])\n",
    "print (res)"
   ]
  },
  {
   "cell_type": "code",
   "execution_count": 18,
   "metadata": {},
   "outputs": [
    {
     "data": {
      "text/plain": [
       "[4, 3, 2, 1]"
      ]
     },
     "execution_count": 18,
     "metadata": {},
     "output_type": "execute_result"
    }
   ],
   "source": [
    "arr=[1,2,3,4]\n",
    "arr[::-1]"
   ]
  },
  {
   "cell_type": "code",
   "execution_count": 24,
   "metadata": {},
   "outputs": [
    {
     "name": "stdout",
     "output_type": "stream",
     "text": [
      "0\n",
      "1\n",
      "2\n",
      "3\n",
      "4\n"
     ]
    }
   ],
   "source": []
  },
  {
   "cell_type": "code",
   "execution_count": null,
   "metadata": {},
   "outputs": [],
   "source": []
  },
  {
   "cell_type": "code",
   "execution_count": null,
   "metadata": {},
   "outputs": [],
   "source": []
  },
  {
   "cell_type": "code",
   "execution_count": null,
   "metadata": {},
   "outputs": [],
   "source": []
  },
  {
   "cell_type": "code",
   "execution_count": null,
   "metadata": {},
   "outputs": [],
   "source": []
  },
  {
   "cell_type": "code",
   "execution_count": null,
   "metadata": {},
   "outputs": [],
   "source": []
  },
  {
   "cell_type": "code",
   "execution_count": null,
   "metadata": {},
   "outputs": [],
   "source": []
  },
  {
   "cell_type": "code",
   "execution_count": null,
   "metadata": {},
   "outputs": [],
   "source": []
  },
  {
   "cell_type": "code",
   "execution_count": null,
   "metadata": {},
   "outputs": [],
   "source": []
  },
  {
   "cell_type": "code",
   "execution_count": null,
   "metadata": {},
   "outputs": [],
   "source": []
  },
  {
   "cell_type": "code",
   "execution_count": null,
   "metadata": {},
   "outputs": [],
   "source": []
  },
  {
   "cell_type": "code",
   "execution_count": null,
   "metadata": {},
   "outputs": [],
   "source": []
  }
 ],
 "metadata": {
  "kernelspec": {
   "display_name": "Python 3",
   "language": "python",
   "name": "python3"
  },
  "language_info": {
   "codemirror_mode": {
    "name": "ipython",
    "version": 3
   },
   "file_extension": ".py",
   "mimetype": "text/x-python",
   "name": "python",
   "nbconvert_exporter": "python",
   "pygments_lexer": "ipython3",
   "version": "3.6.9"
  }
 },
 "nbformat": 4,
 "nbformat_minor": 2
}
