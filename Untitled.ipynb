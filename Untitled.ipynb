{
 "cells": [
  {
   "cell_type": "code",
   "execution_count": 10,
   "metadata": {},
   "outputs": [],
   "source": [
    "class Node:\n",
    "    def __init__(self,data):\n",
    "        self.data = data\n",
    "        self.next = None\n",
    "\n",
    "class LinkedList:\n",
    "    def __init__(self):\n",
    "        self.head = None\n",
    "        \n",
    "    def insert(self, data):\n",
    "        newnode = Node(data)\n",
    "        if self.head == None:\n",
    "            self.head = newnode\n",
    "        else:\n",
    "            temp = self.head\n",
    "            while temp.next:\n",
    "                temp = temp.next\n",
    "            temp.next = newnode\n",
    "            \n",
    "    def printList(self):\n",
    "        temp = self.head\n",
    "        while temp:\n",
    "            print(temp.data, end = ' ')\n",
    "            temp = temp.next\n",
    "        print(temp)\n",
    "        \n",
    "    def swap_nodes(self, data1, data2):\n",
    "        cur1 = self.head\n",
    "        if cur1.data == data1:\n",
    "            prev1 = cur1\n",
    "        else:\n",
    "            while cur1:\n",
    "                prev1 = cur1\n",
    "                cur1 = cur1.next\n",
    "                if cur1.data == data1:\n",
    "                    break\n",
    "        cur2 = self.head\n",
    "        if cur2.data == data2:\n",
    "            prev2 = cur2\n",
    "        else:\n",
    "            while cur2:\n",
    "                prev2 = cur2\n",
    "                cur2 = cur2.next\n",
    "                if cur2.data == data2:\n",
    "                    break\n",
    "        prev1.next = cur2\n",
    "        temp = cur2.next\n",
    "        cur2.next = cur1.next\n",
    "        prev2.next = cur1\n",
    "        cur1.next = temp"
   ]
  },
  {
   "cell_type": "code",
   "execution_count": 11,
   "metadata": {},
   "outputs": [
    {
     "name": "stdout",
     "output_type": "stream",
     "text": [
      "1 2 3 4 5 6 None\n",
      "1 5 3 4 2 6 None\n"
     ]
    }
   ],
   "source": [
    "llist = LinkedList()\n",
    "llist.insert(1)\n",
    "llist.insert(2)\n",
    "llist.insert(3)\n",
    "llist.insert(4)\n",
    "llist.insert(5)\n",
    "llist.insert(6)\n",
    "llist.printList()\n",
    "llist.swap_nodes(2,5)\n",
    "llist.printList()"
   ]
  },
  {
   "cell_type": "code",
   "execution_count": 12,
   "metadata": {},
   "outputs": [
    {
     "name": "stdout",
     "output_type": "stream",
     "text": [
      "1 4 2 6 None\n"
     ]
    }
   ],
   "source": [
    "llist.swap_nodes(1,3)\n",
    "llist.printList()"
   ]
  },
  {
   "cell_type": "code",
   "execution_count": null,
   "metadata": {},
   "outputs": [],
   "source": []
  }
 ],
 "metadata": {
  "kernelspec": {
   "display_name": "Python 3",
   "language": "python",
   "name": "python3"
  },
  "language_info": {
   "codemirror_mode": {
    "name": "ipython",
    "version": 3
   },
   "file_extension": ".py",
   "mimetype": "text/x-python",
   "name": "python",
   "nbconvert_exporter": "python",
   "pygments_lexer": "ipython3",
   "version": "3.6.9"
  }
 },
 "nbformat": 4,
 "nbformat_minor": 4
}
