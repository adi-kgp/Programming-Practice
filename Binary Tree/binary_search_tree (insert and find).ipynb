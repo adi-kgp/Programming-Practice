{
 "cells": [
  {
   "cell_type": "code",
   "execution_count": 1,
   "metadata": {},
   "outputs": [],
   "source": [
    "# Binary Search Tree: insertion, search and check if bst property is satisfied"
   ]
  },
  {
   "cell_type": "code",
   "execution_count": 17,
   "metadata": {},
   "outputs": [],
   "source": [
    "class Node:\n",
    "    def __init__(self,data=None):\n",
    "        self.data = data\n",
    "        self.right = None\n",
    "        self.left = None\n",
    "        \n",
    "class BST:\n",
    "    def __init__(self):\n",
    "        self.root = None\n",
    "        \n",
    "    def insert(self, data):\n",
    "        if self.root is None:\n",
    "            self.root = Node(data)\n",
    "        else:\n",
    "            return self._insert(data, self.root)\n",
    "        \n",
    "    def _insert(self, data, cur_node):\n",
    "        if cur_node.data > data:\n",
    "            if cur_node.left == None:\n",
    "                cur_node.left = Node(data)\n",
    "            else:\n",
    "                return self._insert(data, cur_node.left)\n",
    "        elif cur_node.data < data:\n",
    "            if cur_node.right == None:\n",
    "                cur_node.right = Node(data)\n",
    "            else:\n",
    "                return self._insert(data, cur_node.right)\n",
    "        else:\n",
    "            print('Node already exists in the tree')\n",
    "            \n",
    "    def find(self,data):\n",
    "        if self.root:\n",
    "            is_present = self._find(data, self.root)\n",
    "            if is_present:\n",
    "                return True\n",
    "            else: \n",
    "                return False\n",
    "        else:\n",
    "            return None\n",
    "        \n",
    "    def _find(self,data,cur_node):\n",
    "        if cur_node.data > data and cur_node.left != None:\n",
    "            return self._find(data, cur_node.left)\n",
    "        elif cur_node.data < data and cur_node.right != None:\n",
    "            return self._find(data, cur_node.right)\n",
    "        if data == cur_node.data:\n",
    "            return True\n",
    "        \n",
    "    def inorder_print_tree(self):\n",
    "        if self.root:\n",
    "            return self._inorder_print_tree(self.root)\n",
    "        else:\n",
    "            print('Tree not present')\n",
    "            \n",
    "    def _inorder_print_tree(self,cur_node):\n",
    "        if cur_node:\n",
    "            self._inorder_print_tree(cur_node.left)\n",
    "            print(str(cur_node.data), end=' ')\n",
    "            self._inorder_print_tree(cur_node.right)\n",
    "            \n",
    "    def is_bst_satisfied(self):\n",
    "        if self.root:\n",
    "            is_satisfied = self._is_bst_satisfied(self.root, self.root.data)\n",
    "            if is_satisfied == None:\n",
    "                return True\n",
    "            else: \n",
    "                return False\n",
    "        else:\n",
    "            return True\n",
    "        \n",
    "    def _is_bst_satisfied(self, cur_node, data):\n",
    "        if cur_node.left:\n",
    "            if cur_node.left.data < data:\n",
    "                return self._is_bst_satisfied(cur_node.left,cur_node.left.data)\n",
    "            else:\n",
    "                return False\n",
    "        if cur_node.right:\n",
    "            if cur_node.right.data > data:\n",
    "                return self._is_bst_satisfied(cur_node.right, cur_node.right.data)\n",
    "            else: \n",
    "                return False"
   ]
  },
  {
   "cell_type": "code",
   "execution_count": 18,
   "metadata": {},
   "outputs": [],
   "source": [
    "bst = BST()\n",
    "bst.insert(1)\n",
    "bst.insert(12)\n",
    "bst.insert(5)\n",
    "bst.insert(4)\n",
    "bst.insert(32)\n",
    "bst.insert(10)\n",
    "bst.insert(16)"
   ]
  },
  {
   "cell_type": "code",
   "execution_count": 19,
   "metadata": {},
   "outputs": [
    {
     "data": {
      "text/plain": [
       "False"
      ]
     },
     "execution_count": 19,
     "metadata": {},
     "output_type": "execute_result"
    }
   ],
   "source": [
    "bst.find(2)"
   ]
  },
  {
   "cell_type": "code",
   "execution_count": 20,
   "metadata": {},
   "outputs": [
    {
     "name": "stdout",
     "output_type": "stream",
     "text": [
      "Node already exists in the tree\n"
     ]
    }
   ],
   "source": [
    "bst.insert(12)"
   ]
  },
  {
   "cell_type": "code",
   "execution_count": 21,
   "metadata": {},
   "outputs": [
    {
     "name": "stdout",
     "output_type": "stream",
     "text": [
      "1 4 5 10 12 16 32 "
     ]
    }
   ],
   "source": [
    "bst.inorder_print_tree()"
   ]
  },
  {
   "cell_type": "code",
   "execution_count": 22,
   "metadata": {},
   "outputs": [
    {
     "data": {
      "text/plain": [
       "True"
      ]
     },
     "execution_count": 22,
     "metadata": {},
     "output_type": "execute_result"
    }
   ],
   "source": [
    "bst.is_bst_satisfied()"
   ]
  },
  {
   "cell_type": "code",
   "execution_count": 24,
   "metadata": {},
   "outputs": [
    {
     "data": {
      "text/plain": [
       "False"
      ]
     },
     "execution_count": 24,
     "metadata": {},
     "output_type": "execute_result"
    }
   ],
   "source": [
    "tree = BST()\n",
    "tree.root = Node(1)\n",
    "tree.root.left = Node(2)\n",
    "tree.root.right = Node(3)\n",
    "tree.is_bst_satisfied()"
   ]
  },
  {
   "cell_type": "code",
   "execution_count": null,
   "metadata": {},
   "outputs": [],
   "source": []
  }
 ],
 "metadata": {
  "kernelspec": {
   "display_name": "Python 3",
   "language": "python",
   "name": "python3"
  },
  "language_info": {
   "codemirror_mode": {
    "name": "ipython",
    "version": 3
   },
   "file_extension": ".py",
   "mimetype": "text/x-python",
   "name": "python",
   "nbconvert_exporter": "python",
   "pygments_lexer": "ipython3",
   "version": "3.6.9"
  }
 },
 "nbformat": 4,
 "nbformat_minor": 4
}
