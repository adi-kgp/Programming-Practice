{
 "cells": [
  {
   "cell_type": "code",
   "execution_count": null,
   "metadata": {},
   "outputs": [],
   "source": [
    "# Implementing Binary tree Depth First Search implementations (preorder, postorder and inorder)"
   ]
  },
  {
   "cell_type": "code",
   "execution_count": 29,
   "metadata": {},
   "outputs": [],
   "source": [
    "class Node:\n",
    "    def __init__(self, value):\n",
    "        self.data = value\n",
    "        self.right = None\n",
    "        self.left = None\n",
    "        \n",
    "class BinaryTree:\n",
    "    def __init__(self,root):\n",
    "        self.root = Node(root)\n",
    "        \n",
    "    def print_tree(self, traversal_type):\n",
    "        if traversal_type == 'preorder':\n",
    "            return self.preorder_print(tree.root, '')\n",
    "        if traversal_type == 'inorder':\n",
    "            return self.inorder_print(tree.root, '')\n",
    "        if traversal_type == 'postorder':\n",
    "            return self.postorder_print(tree.root, '')\n",
    "        \n",
    "    def preorder_print(self, start, traversal):  # root -> left -> right preorder\n",
    "        if start:\n",
    "            traversal += str(start.data) + '-'\n",
    "            traversal = self.preorder_print(start.left, traversal)\n",
    "            traversal = self.preorder_print(start.right, traversal)\n",
    "        return traversal\n",
    "    \n",
    "    def inorder_print(self, start, traversal): # left -> root -> right inorder\n",
    "        if start:\n",
    "            traversal = self.inorder_print(start.left, traversal)\n",
    "            traversal += str(start.data)+'-'\n",
    "            traversal = self.inorder_print(start.right, traversal)\n",
    "        return traversal\n",
    "    \n",
    "    def postorder_print(self, start, traversal): # left -> right -> root postorder\n",
    "        if start:\n",
    "            traversal = self.inorder_print(start.left, traversal)\n",
    "            traversal = self.inorder_print(start.right, traversal)\n",
    "            traversal += str(start.data)+'-'\n",
    "        return traversal"
   ]
  },
  {
   "cell_type": "code",
   "execution_count": 30,
   "metadata": {},
   "outputs": [],
   "source": [
    "'''                  1\n",
    "            2                  3\n",
    "        4       5          6        7\n",
    "                                8       9\n",
    "                                            '''\n",
    "tree = BinaryTree(1)\n",
    "tree.root.left = Node(2)\n",
    "tree.root.right = Node(3)\n",
    "tree.root.left.left = Node(4)\n",
    "tree.root.left.right = Node(5)\n",
    "tree.root.right.left = Node(6)\n",
    "tree.root.right.right = Node(7)\n",
    "tree.root.right.right.left = Node(8)\n",
    "tree.root.right.right.right = Node(9)"
   ]
  },
  {
   "cell_type": "code",
   "execution_count": 9,
   "metadata": {},
   "outputs": [
    {
     "data": {
      "text/plain": [
       "'1-2-4-5-3-6-7-8-9-'"
      ]
     },
     "execution_count": 9,
     "metadata": {},
     "output_type": "execute_result"
    }
   ],
   "source": [
    "tree.print_tree('preorder')"
   ]
  },
  {
   "cell_type": "code",
   "execution_count": 10,
   "metadata": {},
   "outputs": [
    {
     "data": {
      "text/plain": [
       "'4-2-5-1-6-3-8-7-9-'"
      ]
     },
     "execution_count": 10,
     "metadata": {},
     "output_type": "execute_result"
    }
   ],
   "source": [
    "tree.print_tree('inorder')"
   ]
  },
  {
   "cell_type": "code",
   "execution_count": 31,
   "metadata": {},
   "outputs": [
    {
     "data": {
      "text/plain": [
       "'4-2-5-6-3-8-7-9-1-'"
      ]
     },
     "execution_count": 31,
     "metadata": {},
     "output_type": "execute_result"
    }
   ],
   "source": [
    "tree.print_tree('postorder')"
   ]
  },
  {
   "cell_type": "code",
   "execution_count": null,
   "metadata": {},
   "outputs": [],
   "source": []
  }
 ],
 "metadata": {
  "kernelspec": {
   "display_name": "Python 3",
   "language": "python",
   "name": "python3"
  },
  "language_info": {
   "codemirror_mode": {
    "name": "ipython",
    "version": 3
   },
   "file_extension": ".py",
   "mimetype": "text/x-python",
   "name": "python",
   "nbconvert_exporter": "python",
   "pygments_lexer": "ipython3",
   "version": "3.6.9"
  }
 },
 "nbformat": 4,
 "nbformat_minor": 2
}
