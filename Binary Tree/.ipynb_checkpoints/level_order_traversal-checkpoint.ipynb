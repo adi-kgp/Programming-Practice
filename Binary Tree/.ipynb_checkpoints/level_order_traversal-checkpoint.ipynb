{
 "cells": [
  {
   "cell_type": "code",
   "execution_count": 1,
   "metadata": {},
   "outputs": [],
   "source": [
    "# Level order traversal for a binary tree"
   ]
  },
  {
   "cell_type": "code",
   "execution_count": 10,
   "metadata": {},
   "outputs": [],
   "source": [
    "class Queue:\n",
    "    def __init__(self):\n",
    "        self.items = []\n",
    "    def enqueue(self,item):\n",
    "        self.items.insert(0, item)\n",
    "    def dequeue(self):\n",
    "        if not self.is_empty():\n",
    "            return self.items.pop()\n",
    "    def is_empty(self):\n",
    "        return self.items == []\n",
    "    def peek(self):\n",
    "        if not self.is_empty():\n",
    "            return self.items[-1].data\n",
    "    def __len__(self):\n",
    "        return self.size()\n",
    "    def size(self):\n",
    "        return len(self.items)\n",
    "    \n",
    "class Node:\n",
    "    def __init__(self,data):\n",
    "        self.data = data\n",
    "        self.right = None\n",
    "        self.left = None\n",
    "\n",
    "class BinaryTree:\n",
    "    def __init__(self,root):\n",
    "        self.root = Node(root)\n",
    "        self.root.left = None\n",
    "        self.root.right = None\n",
    "    def levelorder_print(self,start):\n",
    "        if start is None:\n",
    "            return\n",
    "        queue = Queue()\n",
    "        queue.enqueue(start)\n",
    "        traversal = ''\n",
    "        while len(queue) >0:\n",
    "            traversal += str(queue.peek()) + '-'\n",
    "            node = queue.dequeue()\n",
    "            if node.left:\n",
    "                queue.enqueue(node.left)\n",
    "            if node.right:\n",
    "                queue.enqueue(node.right)   \n",
    "        return traversal"
   ]
  },
  {
   "cell_type": "code",
   "execution_count": 11,
   "metadata": {},
   "outputs": [],
   "source": [
    "'''\n",
    "              1\n",
    "        2           3\n",
    "    4       5   6       7\n",
    "'''\n",
    "tree = BinaryTree(1)\n",
    "tree.root.left = Node(2)\n",
    "tree.root.right = Node(3)\n",
    "tree.root.left.left = Node(4)\n",
    "tree.root.left.right = Node(5)\n",
    "tree.root.right.left = Node(6)\n",
    "tree.root.right.right = Node(7)"
   ]
  },
  {
   "cell_type": "code",
   "execution_count": 12,
   "metadata": {},
   "outputs": [
    {
     "name": "stdout",
     "output_type": "stream",
     "text": [
      "1-2-3-4-5-6-7-\n"
     ]
    }
   ],
   "source": [
    "traversal = tree.levelorder_print(tree.root)\n",
    "print(traversal)"
   ]
  },
  {
   "cell_type": "code",
   "execution_count": null,
   "metadata": {},
   "outputs": [],
   "source": []
  }
 ],
 "metadata": {
  "kernelspec": {
   "display_name": "Python 3",
   "language": "python",
   "name": "python3"
  },
  "language_info": {
   "codemirror_mode": {
    "name": "ipython",
    "version": 3
   },
   "file_extension": ".py",
   "mimetype": "text/x-python",
   "name": "python",
   "nbconvert_exporter": "python",
   "pygments_lexer": "ipython3",
   "version": "3.6.9"
  }
 },
 "nbformat": 4,
 "nbformat_minor": 2
}
