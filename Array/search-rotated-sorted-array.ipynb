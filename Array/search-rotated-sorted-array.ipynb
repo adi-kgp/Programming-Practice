{
 "cells": [
  {
   "cell_type": "code",
   "execution_count": 2,
   "metadata": {},
   "outputs": [],
   "source": [
    "# Program for searching an element in a rotated sorted array using BinarySearch"
   ]
  },
  {
   "cell_type": "code",
   "execution_count": 25,
   "metadata": {},
   "outputs": [
    {
     "name": "stdout",
     "output_type": "stream",
     "text": [
      "5\n"
     ]
    }
   ],
   "source": [
    "def pivotedBinarySearch(arr,x):\n",
    "    n = len(arr)\n",
    "    \n",
    "    pivot = findPivot(arr,0,n-1)\n",
    "    \n",
    "    if pivot==-1:\n",
    "        return binarySearch(arr,0,n-1,x)\n",
    "    \n",
    "    if arr[pivot]==x:\n",
    "        return pivot\n",
    "    \n",
    "    if arr[0]<=x:\n",
    "        return binarySearch(arr,0,pivot-1,x)\n",
    "    \n",
    "    return binarySearch(arr,pivot+1,n-1,x)\n",
    "    \n",
    "    \n",
    "def findPivot(arr,low,high):\n",
    "    if low > high:\n",
    "        return -1\n",
    "    if low==high:\n",
    "        return low\n",
    "    \n",
    "    mid = int((low+high)/2)\n",
    "    \n",
    "    if arr[mid]>arr[mid+1] and mid<high:\n",
    "        return mid\n",
    "    \n",
    "    if arr[mid]<arr[mid-1] and mid>low:\n",
    "        return mid-1\n",
    "    \n",
    "    if arr[mid]<=arr[low]:\n",
    "        return findPivot(arr,low,mid-1)\n",
    "    \n",
    "    return findPivot(arr,mid+1,high)\n",
    "    \n",
    "    \n",
    "def binarySearch(arr,low,high,x):\n",
    "    if low < high:\n",
    "        \n",
    "        mid = int((low+high)/2)\n",
    "        \n",
    "        if arr[mid] == x:\n",
    "            return mid\n",
    "        \n",
    "        elif x < arr[mid]:\n",
    "            return binarySearch(arr,low,mid-1,x)\n",
    "        \n",
    "        return binarySearch(arr,mid+1,high,x)\n",
    "    \n",
    "    \n",
    "arr= [9,10,1,2,3,4,5,6,7,8] # [3,4,5,6,7,8,9,10,1,2]\n",
    "x=4\n",
    "res = pivotedBinarySearch(arr,x)\n",
    "print(res)"
   ]
  },
  {
   "cell_type": "code",
   "execution_count": null,
   "metadata": {},
   "outputs": [],
   "source": []
  }
 ],
 "metadata": {
  "kernelspec": {
   "display_name": "Python 3",
   "language": "python",
   "name": "python3"
  },
  "language_info": {
   "codemirror_mode": {
    "name": "ipython",
    "version": 3
   },
   "file_extension": ".py",
   "mimetype": "text/x-python",
   "name": "python",
   "nbconvert_exporter": "python",
   "pygments_lexer": "ipython3",
   "version": "3.6.9"
  }
 },
 "nbformat": 4,
 "nbformat_minor": 2
}
