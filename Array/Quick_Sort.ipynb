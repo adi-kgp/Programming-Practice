{
 "cells": [
  {
   "cell_type": "code",
   "execution_count": 1,
   "metadata": {},
   "outputs": [],
   "source": [
    "# program for implementing quick sort on array with last element as pivot"
   ]
  },
  {
   "cell_type": "code",
   "execution_count": 2,
   "metadata": {},
   "outputs": [],
   "source": [
    "def partition(arr, low, high):\n",
    "    i = low-1\n",
    "    pivot = arr[high]\n",
    "    for j in range(low, high):\n",
    "        if arr[j]<pivot:\n",
    "            i += 1\n",
    "            arr[i], arr[j] = arr[j],arr[i]\n",
    "    arr[i+1], arr[high] = arr[high], arr[i+1]\n",
    "    return i+1\n",
    "\n",
    "def quickSort(arr, low, high):\n",
    "    if low < high:\n",
    "        \n",
    "        pi = partition(arr, low, high)\n",
    "        \n",
    "        quickSort(arr, low, pi-1)\n",
    "        quickSort(arr, pi+1, high)\n",
    "        \n",
    "\n",
    "def printList(array):\n",
    "    for i in range(len(array)):\n",
    "        print(array[i], end=' ')"
   ]
  },
  {
   "cell_type": "code",
   "execution_count": 3,
   "metadata": {},
   "outputs": [
    {
     "name": "stdout",
     "output_type": "stream",
     "text": [
      "0 6 7 12 18 23 34 45 "
     ]
    }
   ],
   "source": [
    "array = [45,23,12,6,7,34,0,18]\n",
    "quickSort(array, 0, len(array)-1)\n",
    "printList(array)"
   ]
  },
  {
   "cell_type": "code",
   "execution_count": null,
   "metadata": {},
   "outputs": [],
   "source": [
    "# program to implement quick sort with first element as pivot"
   ]
  },
  {
   "cell_type": "code",
   "execution_count": 4,
   "metadata": {},
   "outputs": [
    {
     "name": "stdout",
     "output_type": "stream",
     "text": [
      "0 6 7 12 18 23 34 45 "
     ]
    }
   ],
   "source": [
    "def quickSort(arr, low, high):\n",
    "    if low< high:\n",
    "        pi = partition(arr, low, high)\n",
    "        quickSort(arr, low, pi-1)\n",
    "        quickSort(arr, pi+1, high)\n",
    "        \n",
    "def partition(arr, low, high):\n",
    "    i = high+1\n",
    "    pivot = arr[low]\n",
    "    for j in range(high,low, -1):\n",
    "        if arr[j] > pivot:\n",
    "            i = i-1\n",
    "            arr[i],arr[j] = arr[j],arr[i]\n",
    "    arr[i-1],arr[low] = arr[low], arr[i-1]\n",
    "    return i-1\n",
    "\n",
    "array = [45,23,12,6,7,34,0,18]\n",
    "quickSort(array,0, len(array)-1)\n",
    "printList(array)"
   ]
  },
  {
   "cell_type": "code",
   "execution_count": null,
   "metadata": {},
   "outputs": [],
   "source": []
  }
 ],
 "metadata": {
  "kernelspec": {
   "display_name": "Python 3",
   "language": "python",
   "name": "python3"
  },
  "language_info": {
   "codemirror_mode": {
    "name": "ipython",
    "version": 3
   },
   "file_extension": ".py",
   "mimetype": "text/x-python",
   "name": "python",
   "nbconvert_exporter": "python",
   "pygments_lexer": "ipython3",
   "version": "3.6.9"
  }
 },
 "nbformat": 4,
 "nbformat_minor": 2
}
