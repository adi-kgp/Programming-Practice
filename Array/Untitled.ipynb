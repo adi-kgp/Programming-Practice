{
 "cells": [
  {
   "cell_type": "code",
   "execution_count": 17,
   "metadata": {},
   "outputs": [
    {
     "name": "stdout",
     "output_type": "stream",
     "text": [
      "[1, 2, 4, 5, 8, 9, 11]\n"
     ]
    }
   ],
   "source": [
    "arr = [4,5,8,2,1,9,11]\n",
    "\n",
    "def merge_sort(arr):\n",
    "    if len(arr)<=1:\n",
    "        return \n",
    "    mid = len(arr)//2\n",
    "    left = arr[:mid]\n",
    "    right = arr[mid:]\n",
    "    merge_sort(left)\n",
    "    merge_sort(right)\n",
    "    l=r=i=0\n",
    "    while l < len(left) and r < len(right):\n",
    "        if left[l] <= right[r]:\n",
    "            arr[i] = left[l]\n",
    "            l += 1\n",
    "        else:\n",
    "            arr[i] = right[r]\n",
    "            r += 1\n",
    "        i += 1\n",
    "    while l < len(left):\n",
    "        arr[i] = left[l]\n",
    "        i += 1\n",
    "        l += 1\n",
    "    while r < len(right):\n",
    "        arr[i] = right[r]\n",
    "        i += 1\n",
    "        r += 1\n",
    "    \n",
    "merge_sort(arr)\n",
    "print(arr)"
   ]
  },
  {
   "cell_type": "code",
   "execution_count": 13,
   "metadata": {},
   "outputs": [],
   "source": [
    "def test1(arr):\n",
    "    if len(arr)>1:\n",
    "        print(arr)\n",
    "def test2(arr):\n",
    "    if len(arr) <= 1:\n",
    "        return\n",
    "    print(arr)\n",
    "arr = [1]\n",
    "test2(arr)"
   ]
  },
  {
   "cell_type": "code",
   "execution_count": null,
   "metadata": {},
   "outputs": [],
   "source": []
  }
 ],
 "metadata": {
  "kernelspec": {
   "display_name": "Python 3",
   "language": "python",
   "name": "python3"
  },
  "language_info": {
   "codemirror_mode": {
    "name": "ipython",
    "version": 3
   },
   "file_extension": ".py",
   "mimetype": "text/x-python",
   "name": "python",
   "nbconvert_exporter": "python",
   "pygments_lexer": "ipython3",
   "version": "3.6.9"
  }
 },
 "nbformat": 4,
 "nbformat_minor": 4
}
