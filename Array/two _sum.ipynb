{
 "cells": [
  {
   "cell_type": "code",
   "execution_count": 1,
   "metadata": {},
   "outputs": [
    {
     "data": {
      "text/plain": [
       "'Given a sorted array of integers, return the two numbers such that they add to a specific target. \\nYou may assume that each input would have exactly one solution, and you may not use the same element twice '"
      ]
     },
     "execution_count": 1,
     "metadata": {},
     "output_type": "execute_result"
    }
   ],
   "source": [
    "'''Given a sorted array of integers, return the two numbers such that they add to a specific target. \n",
    "You may assume that each input would have exactly one solution, and you may not use the same element twice '''"
   ]
  },
  {
   "cell_type": "code",
   "execution_count": 1,
   "metadata": {},
   "outputs": [
    {
     "data": {
      "text/plain": [
       "'elements not found'"
      ]
     },
     "execution_count": 1,
     "metadata": {},
     "output_type": "execute_result"
    }
   ],
   "source": [
    "# time complexity O(n2)\n",
    "arr = [-2,2,4,6,8,11,14]\n",
    "target = 14\n",
    "\n",
    "arr1 = [-2,2,4,6,8,11,14]\n",
    "target1 = 100\n",
    "\n",
    "def two_sum_brute(arr, target):\n",
    "    for i in range(len(arr)-1):\n",
    "        for j in range(i+1, len(arr)):\n",
    "            if arr[i]+arr[j] == target:\n",
    "                return (arr[i],arr[j])\n",
    "    return 'elements not found'\n",
    "\n",
    "#two_sum_brute(arr,target)\n",
    "two_sum_brute(arr1,target1)"
   ]
  },
  {
   "cell_type": "code",
   "execution_count": 2,
   "metadata": {},
   "outputs": [
    {
     "data": {
      "text/plain": [
       "(6, 8)"
      ]
     },
     "execution_count": 2,
     "metadata": {},
     "output_type": "execute_result"
    }
   ],
   "source": [
    "# time complexity O(n/2)\n",
    "def two_sum_recursive(arr,target,low,high):\n",
    "    if low >= high:\n",
    "        return 'elements not found'\n",
    "    if arr[low]+arr[high] == target:\n",
    "        return (arr[low],arr[high])\n",
    "    elif arr[low]+arr[high] < target:\n",
    "        return two_sum_recursive(arr,target,low+1,high)\n",
    "    elif arr[low]+arr[high] > target:\n",
    "        return two_sum_recursive(arr,target,low,high-1)\n",
    "    \n",
    "arr1 = [-2,2,4,6,8,11,14]\n",
    "target1 = 100\n",
    "\n",
    "arr = [-2,2,4,6,8,11,14]\n",
    "target = 14\n",
    "\n",
    "two_sum_recursive(arr,target,0, len(arr)-1)"
   ]
  },
  {
   "cell_type": "code",
   "execution_count": null,
   "metadata": {},
   "outputs": [],
   "source": []
  }
 ],
 "metadata": {
  "kernelspec": {
   "display_name": "Python 3",
   "language": "python",
   "name": "python3"
  },
  "language_info": {
   "codemirror_mode": {
    "name": "ipython",
    "version": 3
   },
   "file_extension": ".py",
   "mimetype": "text/x-python",
   "name": "python",
   "nbconvert_exporter": "python",
   "pygments_lexer": "ipython3",
   "version": "3.6.9"
  }
 },
 "nbformat": 4,
 "nbformat_minor": 4
}
