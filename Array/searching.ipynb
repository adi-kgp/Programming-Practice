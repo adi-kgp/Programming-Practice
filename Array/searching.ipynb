{
 "cells": [
  {
   "cell_type": "code",
   "execution_count": 1,
   "metadata": {},
   "outputs": [
    {
     "data": {
      "text/plain": [
       "6"
      ]
     },
     "execution_count": 1,
     "metadata": {},
     "output_type": "execute_result"
    }
   ],
   "source": [
    "# program to implement linear search in an array\n",
    "def linearSearch(arr, el):\n",
    "    for i in range(len(arr)):\n",
    "        if arr[i]==el:\n",
    "            return i\n",
    "\n",
    "arr = [2,3,4,5,6,7,8]\n",
    "linearSearch(arr,8)"
   ]
  },
  {
   "cell_type": "code",
   "execution_count": 7,
   "metadata": {},
   "outputs": [
    {
     "name": "stdout",
     "output_type": "stream",
     "text": [
      "5\n"
     ]
    }
   ],
   "source": [
    "# program to implement binary search on sorted array using recursion\n",
    "def binarySearch(arr,l,r,x):\n",
    "    if l<=r:\n",
    "        mid = l+(r-l)//2\n",
    "        if arr[mid]==x:\n",
    "            return mid\n",
    "        elif arr[mid]>x:\n",
    "            return binarySearch(arr,l,mid-1,x)\n",
    "        elif arr[mid]<x:\n",
    "            return binarySearch(arr,mid+1,r,x)\n",
    "        else:\n",
    "            return -1\n",
    "\n",
    "arr = [1,2,3,4,5,6,7,8,9]\n",
    "l = 0\n",
    "r = len(arr)-1\n",
    "x = 6\n",
    "result = binarySearch(arr,l,r,x)\n",
    "print(result)"
   ]
  },
  {
   "cell_type": "code",
   "execution_count": 1,
   "metadata": {},
   "outputs": [
    {
     "name": "stdout",
     "output_type": "stream",
     "text": [
      "6\n"
     ]
    }
   ],
   "source": [
    "# program to implement binary search on array using iterative method\n",
    "def binarySearch(arr,l,r,x):\n",
    "    while(l<=r):\n",
    "        mid = l+(r-l)//2\n",
    "        if arr[mid]==x:\n",
    "            return mid\n",
    "        elif arr[mid]>x:\n",
    "            r = mid-1\n",
    "        elif arr[mid]<x:\n",
    "            l = mid+1\n",
    "        else:\n",
    "            return -1\n",
    "\n",
    "arr = [1,2,3,4,5,6,7,8,9]\n",
    "l = 0\n",
    "r = len(arr)-1\n",
    "x = 7\n",
    "result = binarySearch(arr,l,r,x)\n",
    "print(result)"
   ]
  },
  {
   "cell_type": "code",
   "execution_count": 4,
   "metadata": {},
   "outputs": [
    {
     "name": "stdout",
     "output_type": "stream",
     "text": [
      "0\n"
     ]
    }
   ],
   "source": [
    "def pivotedBinarySearch(arr,x):\n",
    "    n = len(arr)\n",
    "    pivot = findPivot(arr,0,n-1)\n",
    "    if pivot==-1:\n",
    "        return binarySearch(arr,0,n-1,x)\n",
    "    if arr[pivot]==x:\n",
    "        return pivot\n",
    "    if arr[0]<=x:\n",
    "        return binarySearch(arr,0,pivot-1,x)\n",
    "    else:\n",
    "        return binarySearch(arr,pivot+1,n-1,x)\n",
    "    \n",
    "def findPivot(arr,low,high):\n",
    "    if low > high:\n",
    "        return -1\n",
    "    if low==high:\n",
    "        return low\n",
    "    mid = int((low+high)/2)\n",
    "    if arr[mid]>arr[mid+1] :\n",
    "        return mid\n",
    "    if arr[mid]<arr[mid-1]:\n",
    "        return mid-1\n",
    "    if arr[mid]<=arr[low]:\n",
    "        return findPivot(arr,low,mid-1)\n",
    "    else:\n",
    "        return findPivot(arr,mid+1,high)\n",
    "    \n",
    "def binarySearch(arr,low,high,x):\n",
    "    if low < high:\n",
    "        mid = int((low+high)/2)\n",
    "        if arr[mid] == x:\n",
    "            return mid\n",
    "        if arr[mid] > arr[low]:\n",
    "            return binarySearch(arr,low,mid-1,x)\n",
    "        return binarySearch(arr,mid+1,high,x)\n",
    "    \n",
    "    \n",
    "arr= [1,2] #[,9,10,1,2,3,4,5,6,7,8]  [3,4,5,6,7,8,9,10,1,2]\n",
    "x=1\n",
    "res = pivotedBinarySearch(arr,x)\n",
    "print(res)\n"
   ]
  },
  {
   "cell_type": "code",
   "execution_count": null,
   "metadata": {},
   "outputs": [],
   "source": []
  }
 ],
 "metadata": {
  "kernelspec": {
   "display_name": "Python 3",
   "language": "python",
   "name": "python3"
  },
  "language_info": {
   "codemirror_mode": {
    "name": "ipython",
    "version": 3
   },
   "file_extension": ".py",
   "mimetype": "text/x-python",
   "name": "python",
   "nbconvert_exporter": "python",
   "pygments_lexer": "ipython3",
   "version": "3.6.9"
  }
 },
 "nbformat": 4,
 "nbformat_minor": 2
}
