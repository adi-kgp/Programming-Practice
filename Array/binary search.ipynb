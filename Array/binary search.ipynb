{
 "cells": [
  {
   "cell_type": "code",
   "execution_count": 1,
   "metadata": {},
   "outputs": [],
   "source": [
    "# Binary search"
   ]
  },
  {
   "cell_type": "code",
   "execution_count": 4,
   "metadata": {},
   "outputs": [
    {
     "name": "stdout",
     "output_type": "stream",
     "text": [
      "True\n",
      "True\n"
     ]
    }
   ],
   "source": [
    "arr = [1,2,3,4,5,6,7,8,9,10,11,12]\n",
    "target = 1\n",
    "\n",
    "def binary_search_iterative(arr,target):\n",
    "    low = 0\n",
    "    high = len(arr)-1\n",
    "    while low <= high :\n",
    "        mid = (low+high)//2\n",
    "        if arr[mid] == target:\n",
    "            return True\n",
    "        elif arr[mid]>target:\n",
    "            high = mid-1\n",
    "        else:\n",
    "            low = mid+1\n",
    "    return False\n",
    "\n",
    "def binary_search_recursive(arr,target,low,high):\n",
    "    if low > high:\n",
    "        return False\n",
    "    else:\n",
    "        mid = (low+high)//2\n",
    "        if arr[mid] == target:\n",
    "            return True\n",
    "        elif arr[mid]>target:\n",
    "            return binary_search_recursive(arr,target,low,mid-1)\n",
    "        else:\n",
    "            return binary_search_recursive(arr,target,mid+1,high)\n",
    "\n",
    "print(binary_search_iterative(arr,target))\n",
    "print(binary_search_recursive(arr,target,0,len(arr)-1))"
   ]
  },
  {
   "cell_type": "code",
   "execution_count": null,
   "metadata": {},
   "outputs": [],
   "source": []
  }
 ],
 "metadata": {
  "kernelspec": {
   "display_name": "Python 3",
   "language": "python",
   "name": "python3"
  },
  "language_info": {
   "codemirror_mode": {
    "name": "ipython",
    "version": 3
   },
   "file_extension": ".py",
   "mimetype": "text/x-python",
   "name": "python",
   "nbconvert_exporter": "python",
   "pygments_lexer": "ipython3",
   "version": "3.6.9"
  }
 },
 "nbformat": 4,
 "nbformat_minor": 4
}
