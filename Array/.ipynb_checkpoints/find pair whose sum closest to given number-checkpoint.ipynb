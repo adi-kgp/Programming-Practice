{
 "cells": [
  {
   "cell_type": "code",
   "execution_count": 1,
   "metadata": {},
   "outputs": [],
   "source": [
    "# given a sorted array and a number x, find a pair of numbers from array whose sum is closest to x"
   ]
  },
  {
   "cell_type": "code",
   "execution_count": 9,
   "metadata": {},
   "outputs": [
    {
     "name": "stdout",
     "output_type": "stream",
     "text": [
      "(1, 11)\n"
     ]
    }
   ],
   "source": [
    "# time complexity : O(n2)\n",
    "def pairSum(arr,x):\n",
    "    total=0\n",
    "    n=len(arr)\n",
    "    l=r=0\n",
    "    diff=100000\n",
    "    for i in range(n-1):\n",
    "        for j in range(i+1,n):\n",
    "            total = arr[i]+arr[j]\n",
    "            if abs(x-total)<diff:\n",
    "                diff = abs(x-total)\n",
    "                l=i\n",
    "                r=j\n",
    "    return (arr[l],arr[r])\n",
    "                \n",
    "arr= [1,2,3,4,5,6,7,8,9,10,11,12,13,14,15,16,17]\n",
    "x = 12\n",
    "res = pairSum(arr,x)\n",
    "print(res)"
   ]
  },
  {
   "cell_type": "code",
   "execution_count": 7,
   "metadata": {},
   "outputs": [
    {
     "name": "stdout",
     "output_type": "stream",
     "text": [
      "(1, 11)\n"
     ]
    }
   ],
   "source": [
    "# time complexity O(n)\n",
    "def pairSumMin(arr,sume):\n",
    "    l=0\n",
    "    r=len(arr)-1\n",
    "    diff = 10000000\n",
    "    res_l=res_r = 0\n",
    "    while l<r:\n",
    "        if abs(arr[l]+arr[r]-sume)<diff:\n",
    "            diff = abs(arr[l]+arr[r]-sume)\n",
    "            res_l = l\n",
    "            res_r = r\n",
    "        if (arr[l]+arr[r])>=sume:\n",
    "            r -= 1\n",
    "        if (arr[l]+arr[r])<sume:\n",
    "            l += 1\n",
    "    return (arr[res_l],arr[res_r])\n",
    "\n",
    "arr= [1,2,3,4,5,6,7,8,9,10,11,12,13,14,15,16,17]\n",
    "x = 12\n",
    "res = pairSumMin(arr,x)\n",
    "print(res)"
   ]
  },
  {
   "cell_type": "code",
   "execution_count": null,
   "metadata": {},
   "outputs": [],
   "source": []
  }
 ],
 "metadata": {
  "kernelspec": {
   "display_name": "Python 3",
   "language": "python",
   "name": "python3"
  },
  "language_info": {
   "codemirror_mode": {
    "name": "ipython",
    "version": 3
   },
   "file_extension": ".py",
   "mimetype": "text/x-python",
   "name": "python",
   "nbconvert_exporter": "python",
   "pygments_lexer": "ipython3",
   "version": "3.6.9"
  }
 },
 "nbformat": 4,
 "nbformat_minor": 2
}
